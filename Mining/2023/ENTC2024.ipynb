{
 "cells": [
  {
   "cell_type": "code",
   "execution_count": 1,
   "id": "cb822579-22ef-434e-aded-17d2af97d1cb",
   "metadata": {},
   "outputs": [
    {
     "name": "stdout",
     "output_type": "stream",
     "text": [
      "Data has been successfully exported to entc_tabula_py_extraction.xlsx\n",
      "Data from 'Sheet1' has been saved to 'entc_name_list.xlsx'.\n",
      "Data has been added to './entc_name_list.xlsx' and saved to 'Entc_NameList_2024.xlsx'.\n"
     ]
    }
   ],
   "source": [
    "import tabula\n",
    "import pandas as pd\n",
    "\n",
    "pdf_path=\"./ENTC_2024.pdf\"\n",
    "\n",
    "tables = tabula.read_pdf(pdf_path,pages='all',multiple_tables=True)\n",
    "tables\n",
    "\n",
    "excel_file_path = 'entc_tabula_py_extraction.xlsx'\n",
    "\n",
    "with pd.ExcelWriter(excel_file_path, engine='xlsxwriter') as writer:\n",
    "    for i, df in enumerate(tables, 1):\n",
    "        sheet_name = f'Sheet{i}'\n",
    "        df.to_excel(writer, sheet_name=sheet_name, index=False)\n",
    "\n",
    "print(f\"Data has been successfully exported to {excel_file_path}\")\n",
    "\n",
    "input_file_path = './entc_tabula_py_extraction.xlsx'\n",
    "output_file_path = 'entc_name_list.xlsx'\n",
    "\n",
    "sheet_name = 'Sheet1'\n",
    "\n",
    "df = pd.read_excel(input_file_path, sheet_name, header=0)\n",
    "\n",
    "df.to_excel(output_file_path, index=False)\n",
    "print(f\"Data from '{sheet_name}' has been saved to '{output_file_path}'.\")\n",
    "\n",
    "existing_data_path = './entc_name_list.xlsx'\n",
    "existing_data_sheet = 'Sheet1'\n",
    "existing_df = pd.read_excel(existing_data_path, existing_data_sheet, header=0)\n",
    "\n",
    "# Read all sheets in the Excel file except the first sheet\n",
    "excel_file_path = './entc_tabula_py_extraction.xlsx'\n",
    "excel_file = pd.ExcelFile(excel_file_path)\n",
    "\n",
    "# Initialize an empty list to store DataFrames\n",
    "dfs = []\n",
    "\n",
    "# Iterate through all sheets in the Excel file\n",
    "for sheet_name in excel_file.sheet_names:\n",
    "    if sheet_name == \"Sheet1\":\n",
    "        continue\n",
    "    \n",
    "    # Read each sheet into a DataFrame, without considering the first row as column names\n",
    "    df = pd.read_excel(excel_file, sheet_name, header=None)\n",
    "    \n",
    "    # Set column names for the DataFrame\n",
    "    df.columns = ['Seat No', 'Student Name', 'Mother Name', 'PRN']\n",
    "    \n",
    "    # Append the DataFrame to the list\n",
    "    dfs.append(df)\n",
    "\n",
    "# Concatenate all DataFrames in the list into a single DataFrame\n",
    "combined_df = pd.concat([existing_df] + dfs, ignore_index=True)\n",
    "\n",
    "# Save the combined data to a new Excel file\n",
    "combined_data_path = 'Entc_NameList_2024.xlsx'\n",
    "combined_df.to_excel(combined_data_path, index=False)\n",
    "\n",
    "print(f\"Data has been added to '{existing_data_path}' and saved to '{combined_data_path}'.\")"
   ]
  }
 ],
 "metadata": {
  "kernelspec": {
   "display_name": "Python 3 (ipykernel)",
   "language": "python",
   "name": "python3"
  },
  "language_info": {
   "codemirror_mode": {
    "name": "ipython",
    "version": 3
   },
   "file_extension": ".py",
   "mimetype": "text/x-python",
   "name": "python",
   "nbconvert_exporter": "python",
   "pygments_lexer": "ipython3",
   "version": "3.10.0"
  }
 },
 "nbformat": 4,
 "nbformat_minor": 5
}
