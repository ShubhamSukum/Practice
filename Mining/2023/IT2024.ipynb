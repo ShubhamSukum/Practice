{
 "cells": [
  {
   "cell_type": "code",
   "execution_count": 1,
   "id": "cefc0e3a-9437-4706-b7fb-3b7e9fa9bfe2",
   "metadata": {},
   "outputs": [
    {
     "name": "stdout",
     "output_type": "stream",
     "text": [
      "Data has been successfully exported to it_tabula_py_extraction.xlsx\n",
      "Data from 'Sheet1' has been saved to 'it_name_list.xlsx'.\n",
      "Data has been added to './it_name_list.xlsx' and saved to 'It_NameList_2024.xlsx'.\n"
     ]
    }
   ],
   "source": [
    "import tabula\n",
    "import pandas as pd\n",
    "\n",
    "pdf_path=\"./IT_2024.pdf\"\n",
    "\n",
    "tables = tabula.read_pdf(pdf_path,pages='all',multiple_tables=True)\n",
    "tables\n",
    "\n",
    "excel_file_path = 'it_tabula_py_extraction.xlsx'\n",
    "\n",
    "with pd.ExcelWriter(excel_file_path, engine='xlsxwriter') as writer:\n",
    "    for i, df in enumerate(tables, 1):\n",
    "        sheet_name = f'Sheet{i}'\n",
    "        df.to_excel(writer, sheet_name=sheet_name, index=False)\n",
    "\n",
    "print(f\"Data has been successfully exported to {excel_file_path}\")\n",
    "\n",
    "input_file_path = './it_tabula_py_extraction.xlsx'\n",
    "output_file_path = 'it_name_list.xlsx'\n",
    "\n",
    "sheet_name = 'Sheet1'\n",
    "\n",
    "df = pd.read_excel(input_file_path, sheet_name, header=0)\n",
    "\n",
    "df.to_excel(output_file_path, index=False)\n",
    "print(f\"Data from '{sheet_name}' has been saved to '{output_file_path}'.\")\n",
    "\n",
    "existing_data_path = './it_name_list.xlsx'\n",
    "existing_data_sheet = 'Sheet1'\n",
    "existing_df = pd.read_excel(existing_data_path, existing_data_sheet, header=0)\n",
    "\n",
    "# Read all sheets in the Excel file except the first sheet\n",
    "excel_file_path = './it_tabula_py_extraction.xlsx'\n",
    "excel_file = pd.ExcelFile(excel_file_path)\n",
    "\n",
    "# Initialize an empty list to store DataFrames\n",
    "dfs = []\n",
    "\n",
    "# Iterate through all sheets in the Excel file\n",
    "for sheet_name in excel_file.sheet_names:\n",
    "    if sheet_name == \"Sheet1\":\n",
    "        continue\n",
    "    \n",
    "    # Read each sheet into a DataFrame, without considering the first row as column names\n",
    "    df = pd.read_excel(excel_file, sheet_name, header=None)\n",
    "    \n",
    "    # Set column names for the DataFrame\n",
    "    df.columns = ['Seat No', 'Student Name', 'Mother Name', 'PRN']\n",
    "    \n",
    "    # Append the DataFrame to the list\n",
    "    dfs.append(df)\n",
    "\n",
    "# Concatenate all DataFrames in the list into a single DataFrame\n",
    "combined_df = pd.concat([existing_df] + dfs, ignore_index=True)\n",
    "\n",
    "# Save the combined data to a new Excel file\n",
    "combined_data_path = 'It_NameList_2024.xlsx'\n",
    "combined_df.to_excel(combined_data_path, index=False)\n",
    "\n",
    "print(f\"Data has been added to '{existing_data_path}' and saved to '{combined_data_path}'.\")"
   ]
  },
  {
   "cell_type": "code",
   "execution_count": 2,
   "id": "df8d486a-6a17-4209-ac8f-9ee9ba61a715",
   "metadata": {},
   "outputs": [],
   "source": [
    "first_page=\"./IT_2024_first_page_modification-1.pdf\""
   ]
  },
  {
   "cell_type": "code",
   "execution_count": 3,
   "id": "7a47a132-09c1-49b7-9aa9-6d98ac99eb1f",
   "metadata": {},
   "outputs": [
    {
     "data": {
      "text/plain": [
       "[       Seat No                    Unnamed: 0  Student Name  Mother Name  \\\n",
       " 0   B190058501                    ABHAY BHAT           NaN  SUNITA BHAT   \n",
       " 1   B190058502        ADITYA RAJENDRA THORAT           NaN       KAVITA   \n",
       " 2          NaN                           NaN           NaN       THORAT   \n",
       " 3   B190058503                   ADVAIT NAIK           NaN  SONALI NAIK   \n",
       " 4   B190058504         AGRAWAL PRATHAM SUNIL           NaN        SUDHA   \n",
       " 5          NaN                           NaN           NaN      AGRAWAL   \n",
       " 6   B190058505    AGRAWAL VAISHNAVI MAYURESH           NaN      AGRAWAL   \n",
       " 7          NaN                           NaN           NaN       KAVITA   \n",
       " 8          NaN                           NaN           NaN     MAYURESH   \n",
       " 9   B190058506          AMBEKAR TEJAS MUKUND           NaN         JAYA   \n",
       " 10         NaN                           NaN           NaN      AMBEKAR   \n",
       " 11  B190058507                  ANCHALAA JHA           NaN   BHAVNA JHA   \n",
       " 12  B190058508  ANSARI MOHAMMAD SAIF SHAKEEL           NaN     FAHMEEDA   \n",
       " 13         NaN                         AHMAD           NaN        BEGUM   \n",
       " 14  B190058509                    ANUSHKA DE           NaN     JHUMA DE   \n",
       " 15  B190058510       APOORVARAJ VIKAS LONDHE           NaN       UJWALA   \n",
       " 16  B190058511                 ARYAN AGRAWAL           NaN      SHALINI   \n",
       " 17         NaN                           NaN           NaN      AGRAWAL   \n",
       " 18  B190058512           ARYAN MAHENDRA VORA           NaN        ANITA   \n",
       " 19  B190058513     ATHARVA SATYENDRA AGRAWAL           NaN       POONAM   \n",
       " 20  B190058514       ATTARDE SAKSHI RAJENDRA           NaN      ATTARDE   \n",
       " 21         NaN                           NaN           NaN         HEMA   \n",
       " 22         NaN                           NaN           NaN     RAJENDRA   \n",
       " 23  B190058515          AWAD MAITREYA DEEPAK           NaN       SARIKA   \n",
       " 24         NaN                           NaN           NaN       DEEPAK   \n",
       " 25         NaN                           NaN           NaN         AWAD   \n",
       " 26  B190058516         BAHETI HIMANSHU PARAG           NaN  JYOTI PARAG   \n",
       " 27         NaN                           NaN           NaN       BAHETI   \n",
       " 28  B190058517      BAJAJ ANUSHREE SHRIGOPAL           NaN      PRAVINA   \n",
       " 29         NaN                           NaN           NaN        BAJAJ   \n",
       " \n",
       "           PRN  \n",
       " 0   72138157L  \n",
       " 1   72138165M  \n",
       " 2         NaN  \n",
       " 3   72138166K  \n",
       " 4   72138170H  \n",
       " 5         NaN  \n",
       " 6   72138171F  \n",
       " 7         NaN  \n",
       " 8         NaN  \n",
       " 9   72138173B  \n",
       " 10        NaN  \n",
       " 11  72138177E  \n",
       " 12  72279292B  \n",
       " 13        NaN  \n",
       " 14  72138182M  \n",
       " 15  72138183K  \n",
       " 16  72138188L  \n",
       " 17        NaN  \n",
       " 18  72279293L  \n",
       " 19  72279294J  \n",
       " 20  72279295G  \n",
       " 21        NaN  \n",
       " 22        NaN  \n",
       " 23  72138194E  \n",
       " 24        NaN  \n",
       " 25        NaN  \n",
       " 26  72138202K  \n",
       " 27        NaN  \n",
       " 28  72138203H  \n",
       " 29        NaN  ]"
      ]
     },
     "execution_count": 3,
     "metadata": {},
     "output_type": "execute_result"
    }
   ],
   "source": [
    "tables= tabula.read_pdf(first_page,pages='all',multiple_tables=True)\n",
    "tables"
   ]
  }
 ],
 "metadata": {
  "kernelspec": {
   "display_name": "Python 3 (ipykernel)",
   "language": "python",
   "name": "python3"
  },
  "language_info": {
   "codemirror_mode": {
    "name": "ipython",
    "version": 3
   },
   "file_extension": ".py",
   "mimetype": "text/x-python",
   "name": "python",
   "nbconvert_exporter": "python",
   "pygments_lexer": "ipython3",
   "version": "3.10.0"
  }
 },
 "nbformat": 4,
 "nbformat_minor": 5
}
