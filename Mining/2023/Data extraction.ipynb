{
 "cells": [
  {
   "cell_type": "code",
   "execution_count": 4,
   "id": "2d3913bd-6f95-410c-b07b-8129ab1f39e9",
   "metadata": {},
   "outputs": [
    {
     "name": "stdout",
     "output_type": "stream",
     "text": [
      "Defaulting to user installation because normal site-packages is not writeableNote: you may need to restart the kernel to use updated packages.\n",
      "\n",
      "Requirement already satisfied: tabula-py in c:\\users\\shubham sukum\\appdata\\roaming\\python\\python310\\site-packages (2.9.0)\n",
      "Requirement already satisfied: openpyxl in c:\\users\\shubham sukum\\appdata\\roaming\\python\\python310\\site-packages (3.1.2)\n",
      "Requirement already satisfied: xlsxwriter in c:\\users\\shubham sukum\\appdata\\roaming\\python\\python310\\site-packages (3.2.0)\n",
      "Requirement already satisfied: jpype1 in c:\\users\\shubham sukum\\appdata\\roaming\\python\\python310\\site-packages (1.5.0)\n",
      "Requirement already satisfied: pandas>=0.25.3 in c:\\users\\shubham sukum\\appdata\\roaming\\python\\python310\\site-packages (from tabula-py) (2.1.3)\n",
      "Requirement already satisfied: distro in c:\\users\\shubham sukum\\appdata\\roaming\\python\\python310\\site-packages (from tabula-py) (1.9.0)\n",
      "Requirement already satisfied: numpy in c:\\users\\shubham sukum\\appdata\\roaming\\python\\python310\\site-packages (from tabula-py) (1.26.1)\n",
      "Requirement already satisfied: et-xmlfile in c:\\users\\shubham sukum\\appdata\\roaming\\python\\python310\\site-packages (from openpyxl) (1.1.0)\n",
      "Requirement already satisfied: packaging in c:\\users\\shubham sukum\\appdata\\roaming\\python\\python310\\site-packages (from jpype1) (23.2)\n",
      "Requirement already satisfied: tzdata>=2022.1 in c:\\users\\shubham sukum\\appdata\\roaming\\python\\python310\\site-packages (from pandas>=0.25.3->tabula-py) (2023.3)\n",
      "Requirement already satisfied: python-dateutil>=2.8.2 in c:\\users\\shubham sukum\\appdata\\roaming\\python\\python310\\site-packages (from pandas>=0.25.3->tabula-py) (2.8.2)\n",
      "Requirement already satisfied: pytz>=2020.1 in c:\\users\\shubham sukum\\appdata\\roaming\\python\\python310\\site-packages (from pandas>=0.25.3->tabula-py) (2023.3.post1)\n",
      "Requirement already satisfied: six>=1.5 in c:\\users\\shubham sukum\\appdata\\roaming\\python\\python310\\site-packages (from python-dateutil>=2.8.2->pandas>=0.25.3->tabula-py) (1.16.0)\n"
     ]
    },
    {
     "name": "stderr",
     "output_type": "stream",
     "text": [
      "WARNING: You are using pip version 21.2.3; however, version 24.0 is available.\n",
      "You should consider upgrading via the 'C:\\Program Files\\Python310\\python.exe -m pip install --upgrade pip' command.\n"
     ]
    }
   ],
   "source": [
    "pip install tabula-py openpyxl xlsxwriter jpype1"
   ]
  },
  {
   "cell_type": "markdown",
   "id": "3eb85f75-4302-41ab-97ff-57a86747c82e",
   "metadata": {},
   "source": [
    "# Code"
   ]
  },
  {
   "cell_type": "code",
   "execution_count": 1,
   "id": "916077e5-e6f0-4012-8ac0-1b51d9464b25",
   "metadata": {},
   "outputs": [],
   "source": [
    "import tabula\n",
    "import pandas as pd"
   ]
  },
  {
   "cell_type": "code",
   "execution_count": 2,
   "id": "fc242efc-5d8d-47d1-af7a-8cf72ada25a7",
   "metadata": {},
   "outputs": [],
   "source": [
    "pdf_path=\"./COMP_2024.pdf\""
   ]
  },
  {
   "cell_type": "code",
   "execution_count": 3,
   "id": "19c9404f-c324-4a0f-9399-ae5283ec36ab",
   "metadata": {},
   "outputs": [
    {
     "ename": "JVMNotFoundException",
     "evalue": "No JVM shared library file (jvm.dll) found. Try setting up the JAVA_HOME environment variable properly.",
     "output_type": "error",
     "traceback": [
      "\u001b[1;31m---------------------------------------------------------------------------\u001b[0m",
      "\u001b[1;31mJVMNotFoundException\u001b[0m                      Traceback (most recent call last)",
      "Cell \u001b[1;32mIn[3], line 1\u001b[0m\n\u001b[1;32m----> 1\u001b[0m tables \u001b[38;5;241m=\u001b[39m \u001b[43mtabula\u001b[49m\u001b[38;5;241;43m.\u001b[39;49m\u001b[43mread_pdf\u001b[49m\u001b[43m(\u001b[49m\u001b[43mpdf_path\u001b[49m\u001b[43m,\u001b[49m\u001b[43mpages\u001b[49m\u001b[38;5;241;43m=\u001b[39;49m\u001b[38;5;124;43m'\u001b[39;49m\u001b[38;5;124;43mall\u001b[39;49m\u001b[38;5;124;43m'\u001b[39;49m\u001b[43m,\u001b[49m\u001b[43mmultiple_tables\u001b[49m\u001b[38;5;241;43m=\u001b[39;49m\u001b[38;5;28;43;01mTrue\u001b[39;49;00m\u001b[43m)\u001b[49m\n\u001b[0;32m      2\u001b[0m tables\n",
      "File \u001b[1;32m~\\AppData\\Roaming\\Python\\Python310\\site-packages\\tabula\\io.py:395\u001b[0m, in \u001b[0;36mread_pdf\u001b[1;34m(input_path, output_format, encoding, java_options, pandas_options, multiple_tables, user_agent, use_raw_url, pages, guess, area, relative_area, lattice, stream, password, silent, columns, relative_columns, format, batch, output_path, force_subprocess, options)\u001b[0m\n\u001b[0;32m    392\u001b[0m     \u001b[38;5;28;01mraise\u001b[39;00m \u001b[38;5;167;01mValueError\u001b[39;00m(\u001b[38;5;124mf\u001b[39m\u001b[38;5;124m\"\u001b[39m\u001b[38;5;132;01m{\u001b[39;00mpath\u001b[38;5;132;01m}\u001b[39;00m\u001b[38;5;124m is empty. Check the file, or download it manually.\u001b[39m\u001b[38;5;124m\"\u001b[39m)\n\u001b[0;32m    394\u001b[0m \u001b[38;5;28;01mtry\u001b[39;00m:\n\u001b[1;32m--> 395\u001b[0m     output \u001b[38;5;241m=\u001b[39m \u001b[43m_run\u001b[49m\u001b[43m(\u001b[49m\n\u001b[0;32m    396\u001b[0m \u001b[43m        \u001b[49m\u001b[43mtabula_options\u001b[49m\u001b[43m,\u001b[49m\n\u001b[0;32m    397\u001b[0m \u001b[43m        \u001b[49m\u001b[43mjava_options\u001b[49m\u001b[43m,\u001b[49m\n\u001b[0;32m    398\u001b[0m \u001b[43m        \u001b[49m\u001b[43mpath\u001b[49m\u001b[43m,\u001b[49m\n\u001b[0;32m    399\u001b[0m \u001b[43m        \u001b[49m\u001b[43mencoding\u001b[49m\u001b[38;5;241;43m=\u001b[39;49m\u001b[43mencoding\u001b[49m\u001b[43m,\u001b[49m\n\u001b[0;32m    400\u001b[0m \u001b[43m        \u001b[49m\u001b[43mforce_subprocess\u001b[49m\u001b[38;5;241;43m=\u001b[39;49m\u001b[43mforce_subprocess\u001b[49m\u001b[43m,\u001b[49m\n\u001b[0;32m    401\u001b[0m \u001b[43m    \u001b[49m\u001b[43m)\u001b[49m\n\u001b[0;32m    402\u001b[0m \u001b[38;5;28;01mfinally\u001b[39;00m:\n\u001b[0;32m    403\u001b[0m     \u001b[38;5;28;01mif\u001b[39;00m temporary:\n",
      "File \u001b[1;32m~\\AppData\\Roaming\\Python\\Python310\\site-packages\\tabula\\io.py:74\u001b[0m, in \u001b[0;36m_run\u001b[1;34m(options, java_options, path, encoding, force_subprocess)\u001b[0m\n\u001b[0;32m     69\u001b[0m     _tabula_vm \u001b[38;5;241m=\u001b[39m SubprocessTabula(\n\u001b[0;32m     70\u001b[0m         java_options\u001b[38;5;241m=\u001b[39mjava_options, silent\u001b[38;5;241m=\u001b[39moptions\u001b[38;5;241m.\u001b[39msilent, encoding\u001b[38;5;241m=\u001b[39mencoding\n\u001b[0;32m     71\u001b[0m     )\n\u001b[0;32m     73\u001b[0m \u001b[38;5;28;01mif\u001b[39;00m \u001b[38;5;129;01mnot\u001b[39;00m _tabula_vm:\n\u001b[1;32m---> 74\u001b[0m     _tabula_vm \u001b[38;5;241m=\u001b[39m \u001b[43mTabulaVm\u001b[49m\u001b[43m(\u001b[49m\u001b[43mjava_options\u001b[49m\u001b[38;5;241;43m=\u001b[39;49m\u001b[43mjava_options\u001b[49m\u001b[43m,\u001b[49m\u001b[43m \u001b[49m\u001b[43msilent\u001b[49m\u001b[38;5;241;43m=\u001b[39;49m\u001b[43moptions\u001b[49m\u001b[38;5;241;43m.\u001b[39;49m\u001b[43msilent\u001b[49m\u001b[43m)\u001b[49m\n\u001b[0;32m     75\u001b[0m     \u001b[38;5;28;01mif\u001b[39;00m _tabula_vm \u001b[38;5;129;01mand\u001b[39;00m \u001b[38;5;129;01mnot\u001b[39;00m _tabula_vm\u001b[38;5;241m.\u001b[39mtabula:\n\u001b[0;32m     76\u001b[0m         _tabula_vm \u001b[38;5;241m=\u001b[39m SubprocessTabula(\n\u001b[0;32m     77\u001b[0m             java_options\u001b[38;5;241m=\u001b[39mjava_options, silent\u001b[38;5;241m=\u001b[39moptions\u001b[38;5;241m.\u001b[39msilent, encoding\u001b[38;5;241m=\u001b[39mencoding\n\u001b[0;32m     78\u001b[0m         )\n",
      "File \u001b[1;32m~\\AppData\\Roaming\\Python\\Python310\\site-packages\\tabula\\backend.py:45\u001b[0m, in \u001b[0;36mTabulaVm.__init__\u001b[1;34m(self, java_options, silent)\u001b[0m\n\u001b[0;32m     36\u001b[0m     \u001b[38;5;28;01mif\u001b[39;00m silent:\n\u001b[0;32m     37\u001b[0m         java_options\u001b[38;5;241m.\u001b[39mextend(\n\u001b[0;32m     38\u001b[0m             (\n\u001b[0;32m     39\u001b[0m                 \u001b[38;5;124m\"\u001b[39m\u001b[38;5;124m-Dorg.slf4j.simpleLogger.defaultLogLevel=off\u001b[39m\u001b[38;5;124m\"\u001b[39m,\n\u001b[1;32m   (...)\u001b[0m\n\u001b[0;32m     42\u001b[0m             )\n\u001b[0;32m     43\u001b[0m         )\n\u001b[1;32m---> 45\u001b[0m     \u001b[43mjpype\u001b[49m\u001b[38;5;241;43m.\u001b[39;49m\u001b[43mstartJVM\u001b[49m\u001b[43m(\u001b[49m\u001b[38;5;241;43m*\u001b[39;49m\u001b[43mjava_options\u001b[49m\u001b[43m,\u001b[49m\u001b[43m \u001b[49m\u001b[43mconvertStrings\u001b[49m\u001b[38;5;241;43m=\u001b[39;49m\u001b[38;5;28;43;01mFalse\u001b[39;49;00m\u001b[43m)\u001b[49m\n\u001b[0;32m     47\u001b[0m \u001b[38;5;28;01mimport\u001b[39;00m \u001b[38;5;21;01mjava\u001b[39;00m\u001b[38;5;21;01m.\u001b[39;00m\u001b[38;5;21;01mlang\u001b[39;00m \u001b[38;5;28;01mas\u001b[39;00m \u001b[38;5;21;01mlang\u001b[39;00m\n\u001b[0;32m     48\u001b[0m \u001b[38;5;28;01mimport\u001b[39;00m \u001b[38;5;21;01mtechnology\u001b[39;00m\u001b[38;5;21;01m.\u001b[39;00m\u001b[38;5;21;01mtabula\u001b[39;00m \u001b[38;5;28;01mas\u001b[39;00m \u001b[38;5;21;01mtabula\u001b[39;00m\n",
      "File \u001b[1;32m~\\AppData\\Roaming\\Python\\Python310\\site-packages\\jpype\\_core.py:219\u001b[0m, in \u001b[0;36mstartJVM\u001b[1;34m(jvmpath, classpath, ignoreUnrecognized, convertStrings, interrupt, *jvmargs)\u001b[0m\n\u001b[0;32m    216\u001b[0m         jvmargs \u001b[38;5;241m=\u001b[39m jvmargs[\u001b[38;5;241m1\u001b[39m:]\n\u001b[0;32m    218\u001b[0m \u001b[38;5;28;01mif\u001b[39;00m \u001b[38;5;129;01mnot\u001b[39;00m jvmpath:\n\u001b[1;32m--> 219\u001b[0m     jvmpath \u001b[38;5;241m=\u001b[39m \u001b[43mgetDefaultJVMPath\u001b[49m\u001b[43m(\u001b[49m\u001b[43m)\u001b[49m\n\u001b[0;32m    220\u001b[0m \u001b[38;5;28;01melse\u001b[39;00m:\n\u001b[0;32m    221\u001b[0m     \u001b[38;5;66;03m# Allow the path to be a PathLike.\u001b[39;00m\n\u001b[0;32m    222\u001b[0m     jvmpath \u001b[38;5;241m=\u001b[39m os\u001b[38;5;241m.\u001b[39mfspath(jvmpath)\n",
      "File \u001b[1;32m~\\AppData\\Roaming\\Python\\Python310\\site-packages\\jpype\\_jvmfinder.py:74\u001b[0m, in \u001b[0;36mgetDefaultJVMPath\u001b[1;34m()\u001b[0m\n\u001b[0;32m     72\u001b[0m \u001b[38;5;28;01melse\u001b[39;00m:\n\u001b[0;32m     73\u001b[0m     finder \u001b[38;5;241m=\u001b[39m LinuxJVMFinder()\n\u001b[1;32m---> 74\u001b[0m \u001b[38;5;28;01mreturn\u001b[39;00m \u001b[43mfinder\u001b[49m\u001b[38;5;241;43m.\u001b[39;49m\u001b[43mget_jvm_path\u001b[49m\u001b[43m(\u001b[49m\u001b[43m)\u001b[49m\n",
      "File \u001b[1;32m~\\AppData\\Roaming\\Python\\Python310\\site-packages\\jpype\\_jvmfinder.py:212\u001b[0m, in \u001b[0;36mJVMFinder.get_jvm_path\u001b[1;34m(self)\u001b[0m\n\u001b[0;32m    210\u001b[0m \u001b[38;5;28;01mif\u001b[39;00m jvm_notsupport_ext \u001b[38;5;129;01mis\u001b[39;00m \u001b[38;5;129;01mnot\u001b[39;00m \u001b[38;5;28;01mNone\u001b[39;00m:\n\u001b[0;32m    211\u001b[0m     \u001b[38;5;28;01mraise\u001b[39;00m jvm_notsupport_ext\n\u001b[1;32m--> 212\u001b[0m \u001b[38;5;28;01mraise\u001b[39;00m JVMNotFoundException(\u001b[38;5;124m\"\u001b[39m\u001b[38;5;124mNo JVM shared library file (\u001b[39m\u001b[38;5;132;01m{0}\u001b[39;00m\u001b[38;5;124m) \u001b[39m\u001b[38;5;124m\"\u001b[39m\n\u001b[0;32m    213\u001b[0m                            \u001b[38;5;124m\"\u001b[39m\u001b[38;5;124mfound. Try setting up the JAVA_HOME \u001b[39m\u001b[38;5;124m\"\u001b[39m\n\u001b[0;32m    214\u001b[0m                            \u001b[38;5;124m\"\u001b[39m\u001b[38;5;124menvironment variable properly.\u001b[39m\u001b[38;5;124m\"\u001b[39m\n\u001b[0;32m    215\u001b[0m                            \u001b[38;5;241m.\u001b[39mformat(\u001b[38;5;28mself\u001b[39m\u001b[38;5;241m.\u001b[39m_libfile))\n",
      "\u001b[1;31mJVMNotFoundException\u001b[0m: No JVM shared library file (jvm.dll) found. Try setting up the JAVA_HOME environment variable properly."
     ]
    }
   ],
   "source": [
    "tables = tabula.read_pdf(pdf_path,pages='all',multiple_tables=True)\n",
    "tables"
   ]
  }
 ],
 "metadata": {
  "kernelspec": {
   "display_name": "Python 3 (ipykernel)",
   "language": "python",
   "name": "python3"
  },
  "language_info": {
   "codemirror_mode": {
    "name": "ipython",
    "version": 3
   },
   "file_extension": ".py",
   "mimetype": "text/x-python",
   "name": "python",
   "nbconvert_exporter": "python",
   "pygments_lexer": "ipython3",
   "version": "3.10.0"
  }
 },
 "nbformat": 4,
 "nbformat_minor": 5
}
