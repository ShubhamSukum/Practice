{
 "cells": [
  {
   "cell_type": "code",
   "execution_count": 1,
   "id": "3c3642b1",
   "metadata": {
    "scrolled": true
   },
   "outputs": [
    {
     "name": "stdout",
     "output_type": "stream",
     "text": [
      "Requirement already satisfied: tabula-py in c:\\users\\shubham sukum\\appdata\\local\\programs\\python\\python38\\lib\\site-packages (2.5.1)\n",
      "Requirement already satisfied: pandas>=0.25.3 in c:\\users\\shubham sukum\\appdata\\local\\programs\\python\\python38\\lib\\site-packages (from tabula-py) (1.4.3)\n",
      "Requirement already satisfied: numpy in c:\\users\\shubham sukum\\appdata\\local\\programs\\python\\python38\\lib\\site-packages (from tabula-py) (1.23.2)\n",
      "Requirement already satisfied: distro in c:\\users\\shubham sukum\\appdata\\local\\programs\\python\\python38\\lib\\site-packages (from tabula-py) (1.7.0)\n",
      "Requirement already satisfied: python-dateutil>=2.8.1 in c:\\users\\shubham sukum\\appdata\\local\\programs\\python\\python38\\lib\\site-packages (from pandas>=0.25.3->tabula-py) (2.8.2)\n",
      "Requirement already satisfied: pytz>=2020.1 in c:\\users\\shubham sukum\\appdata\\local\\programs\\python\\python38\\lib\\site-packages (from pandas>=0.25.3->tabula-py) (2022.2.1)\n",
      "Requirement already satisfied: six>=1.5 in c:\\users\\shubham sukum\\appdata\\roaming\\python\\python38\\site-packages (from python-dateutil>=2.8.1->pandas>=0.25.3->tabula-py) (1.15.0)\n",
      "Note: you may need to restart the kernel to use updated packages.\n"
     ]
    },
    {
     "name": "stderr",
     "output_type": "stream",
     "text": [
      "\n",
      "[notice] A new release of pip is available: 23.1.2 -> 23.2.1\n",
      "[notice] To update, run: python.exe -m pip install --upgrade pip\n"
     ]
    }
   ],
   "source": [
    "pip install tabula-py"
   ]
  },
  {
   "cell_type": "code",
   "execution_count": 2,
   "id": "8d0e0f7f",
   "metadata": {},
   "outputs": [
    {
     "name": "stdout",
     "output_type": "stream",
     "text": [
      "Requirement already satisfied: pandas in c:\\users\\shubham sukum\\appdata\\local\\programs\\python\\python38\\lib\\site-packages (1.4.3)\n",
      "Requirement already satisfied: python-dateutil>=2.8.1 in c:\\users\\shubham sukum\\appdata\\local\\programs\\python\\python38\\lib\\site-packages (from pandas) (2.8.2)\n",
      "Requirement already satisfied: pytz>=2020.1 in c:\\users\\shubham sukum\\appdata\\local\\programs\\python\\python38\\lib\\site-packages (from pandas) (2022.2.1)\n",
      "Requirement already satisfied: numpy>=1.18.5 in c:\\users\\shubham sukum\\appdata\\local\\programs\\python\\python38\\lib\\site-packages (from pandas) (1.23.2)\n",
      "Requirement already satisfied: six>=1.5 in c:\\users\\shubham sukum\\appdata\\roaming\\python\\python38\\site-packages (from python-dateutil>=2.8.1->pandas) (1.15.0)\n",
      "Note: you may need to restart the kernel to use updated packages.\n"
     ]
    },
    {
     "name": "stderr",
     "output_type": "stream",
     "text": [
      "\n",
      "[notice] A new release of pip is available: 23.1.2 -> 23.2.1\n",
      "[notice] To update, run: python.exe -m pip install --upgrade pip\n"
     ]
    }
   ],
   "source": [
    "pip install pandas"
   ]
  },
  {
   "cell_type": "code",
   "execution_count": 3,
   "id": "b6bfa277",
   "metadata": {},
   "outputs": [],
   "source": [
    "import tabula\n",
    "import pandas as pd"
   ]
  },
  {
   "cell_type": "code",
   "execution_count": 4,
   "id": "3e3161fc",
   "metadata": {},
   "outputs": [],
   "source": [
    "pdf_file_path = 'Placement-Report_2022-23.pdf'"
   ]
  },
  {
   "cell_type": "code",
   "execution_count": 5,
   "id": "316e520f",
   "metadata": {},
   "outputs": [],
   "source": [
    "tables=tabula.read_pdf(pdf_file_path,pages='all',multiple_tables=True)"
   ]
  },
  {
   "cell_type": "code",
   "execution_count": 6,
   "id": "6d9113a5",
   "metadata": {},
   "outputs": [],
   "source": [
    "excel_writer = pd.ExcelWriter('output_excel_file.xlsx')"
   ]
  },
  {
   "cell_type": "code",
   "execution_count": 7,
   "id": "32097615",
   "metadata": {},
   "outputs": [
    {
     "name": "stdout",
     "output_type": "stream",
     "text": [
      "Requirement already satisfied: openpyxl in c:\\users\\shubham sukum\\appdata\\local\\programs\\python\\python38\\lib\\site-packages (3.1.2)\n",
      "Requirement already satisfied: et-xmlfile in c:\\users\\shubham sukum\\appdata\\local\\programs\\python\\python38\\lib\\site-packages (from openpyxl) (1.1.0)\n",
      "Note: you may need to restart the kernel to use updated packages.\n"
     ]
    },
    {
     "name": "stderr",
     "output_type": "stream",
     "text": [
      "\n",
      "[notice] A new release of pip is available: 23.1.2 -> 23.2.1\n",
      "[notice] To update, run: python.exe -m pip install --upgrade pip\n"
     ]
    }
   ],
   "source": [
    "pip install openpyxl"
   ]
  },
  {
   "cell_type": "code",
   "execution_count": 8,
   "id": "f1045c54",
   "metadata": {},
   "outputs": [],
   "source": [
    "for i, table in enumerate(tables):\n",
    "    table.to_excel(excel_writer, sheet_name=f'Table_{i+1}', index=False)"
   ]
  },
  {
   "cell_type": "code",
   "execution_count": 9,
   "id": "da6a2ae9",
   "metadata": {},
   "outputs": [],
   "source": [
    "excel_writer.save()"
   ]
  },
  {
   "cell_type": "code",
   "execution_count": null,
   "id": "1f65a8d5",
   "metadata": {},
   "outputs": [],
   "source": []
  }
 ],
 "metadata": {
  "kernelspec": {
   "display_name": "Python 3 (ipykernel)",
   "language": "python",
   "name": "python3"
  },
  "language_info": {
   "codemirror_mode": {
    "name": "ipython",
    "version": 3
   },
   "file_extension": ".py",
   "mimetype": "text/x-python",
   "name": "python",
   "nbconvert_exporter": "python",
   "pygments_lexer": "ipython3",
   "version": "3.8.3"
  }
 },
 "nbformat": 4,
 "nbformat_minor": 5
}
