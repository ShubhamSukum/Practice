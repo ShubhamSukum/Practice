{
 "cells": [
  {
   "cell_type": "code",
   "execution_count": 14,
   "id": "1daa7fc9-545c-4931-b7b4-518531a6288e",
   "metadata": {},
   "outputs": [],
   "source": [
    "import numpy as np\n",
    "import pandas as pd\n",
    "\n",
    "import tensorflow\n",
    "\n",
    "from sklearn.model_selection import train_test_split\n",
    "from sklearn.preprocessing import StandardScaler\n",
    "from sklearn.metrics import accuracy_score\n",
    "\n",
    "from tensorflow.keras.layers import InputLayer,Dense\n",
    "from tensorflow.keras.models import Sequential"
   ]
  },
  {
   "cell_type": "code",
   "execution_count": 15,
   "id": "475a52f9-6af6-48e5-b3bd-b83bc3f4120e",
   "metadata": {},
   "outputs": [],
   "source": [
    "ecg=pd.read_csv(\"Dataset/ECGdataset/ecg_autoencoder_dataset.csv\")\n",
    "X=ecg.values\n",
    "y=np.zeros(X.shape[0])"
   ]
  },
  {
   "cell_type": "code",
   "execution_count": 16,
   "id": "7720f034-abac-4bfc-8634-a8d53d081ff1",
   "metadata": {},
   "outputs": [],
   "source": [
    "xtrain,xtest,ytrain,ytest=train_test_split(X,y,test_size=0.2,random_state=42)"
   ]
  },
  {
   "cell_type": "code",
   "execution_count": 17,
   "id": "4deff039-99e9-439a-8c9f-0b21a82dc2c9",
   "metadata": {},
   "outputs": [],
   "source": [
    "scaler=StandardScaler()\n",
    "xtrain=scaler.fit_transform(xtrain)\n",
    "xtest=scaler.transform(xtest)"
   ]
  },
  {
   "cell_type": "code",
   "execution_count": 18,
   "id": "9a32db9d-427a-4611-9571-049e498f37c6",
   "metadata": {},
   "outputs": [],
   "source": [
    "input_dim,encoding_dim=xtrain.shape[1],16"
   ]
  },
  {
   "cell_type": "code",
   "execution_count": 19,
   "id": "8dbfdcdc-6c83-4314-baae-60016138e699",
   "metadata": {},
   "outputs": [],
   "source": [
    "encoder=Sequential([\n",
    "    InputLayer(input_shape=(input_dim,)),\n",
    "    Dense(32,activation=\"relu\"),\n",
    "    Dense(encoding_dim,activation=\"relu\")\n",
    "])"
   ]
  },
  {
   "cell_type": "code",
   "execution_count": 20,
   "id": "83fdf1d4-ea5e-4134-a179-87828a64cbe6",
   "metadata": {},
   "outputs": [],
   "source": [
    "decoder=Sequential([\n",
    "    InputLayer(input_shape=(encoding_dim,)),\n",
    "    Dense(32,activation=\"relu\"),\n",
    "    Dense(input_dim,activation=\"sigmoid\")\n",
    "])"
   ]
  },
  {
   "cell_type": "code",
   "execution_count": 21,
   "id": "4055ef3f-9533-4652-bd30-5cb0a0027a08",
   "metadata": {},
   "outputs": [
    {
     "name": "stdout",
     "output_type": "stream",
     "text": [
      "Epoch 1/10\n",
      "125/125 [==============================] - 1s 4ms/step - loss: 0.9394 - val_loss: 0.8397\n",
      "Epoch 2/10\n",
      "125/125 [==============================] - 0s 3ms/step - loss: 0.7325 - val_loss: 0.7819\n",
      "Epoch 3/10\n",
      "125/125 [==============================] - 0s 3ms/step - loss: 0.6968 - val_loss: 0.7570\n",
      "Epoch 4/10\n",
      "125/125 [==============================] - 0s 3ms/step - loss: 0.6810 - val_loss: 0.7464\n",
      "Epoch 5/10\n",
      "125/125 [==============================] - 0s 3ms/step - loss: 0.6719 - val_loss: 0.7407\n",
      "Epoch 6/10\n",
      "125/125 [==============================] - 0s 3ms/step - loss: 0.6666 - val_loss: 0.7360\n",
      "Epoch 7/10\n",
      "125/125 [==============================] - 0s 3ms/step - loss: 0.6622 - val_loss: 0.7320\n",
      "Epoch 8/10\n",
      "125/125 [==============================] - 0s 3ms/step - loss: 0.6587 - val_loss: 0.7284\n",
      "Epoch 9/10\n",
      "125/125 [==============================] - 0s 3ms/step - loss: 0.6556 - val_loss: 0.7264\n",
      "Epoch 10/10\n",
      "125/125 [==============================] - 0s 3ms/step - loss: 0.6537 - val_loss: 0.7245\n",
      "Model: \"sequential_6\"\n",
      "_________________________________________________________________\n",
      " Layer (type)                Output Shape              Param #   \n",
      "=================================================================\n",
      " sequential_4 (Sequential)   (None, 16)                5072      \n",
      "                                                                 \n",
      " sequential_5 (Sequential)   (None, 141)               5197      \n",
      "                                                                 \n",
      "=================================================================\n",
      "Total params: 10269 (40.11 KB)\n",
      "Trainable params: 10269 (40.11 KB)\n",
      "Non-trainable params: 0 (0.00 Byte)\n",
      "_________________________________________________________________\n"
     ]
    }
   ],
   "source": [
    "autoencode=Sequential([encoder,decoder])\n",
    "autoencode.compile(optimizer=\"adam\",loss=\"mse\")\n",
    "autoencode.fit(xtrain,xtrain,epochs=10,batch_size=32,shuffle=True,validation_data=(xtest,xtest))\n",
    "\n",
    "autoencode.summary()"
   ]
  },
  {
   "cell_type": "code",
   "execution_count": 22,
   "id": "67848c3e-dd1d-4f8d-b495-6ca8a0d4d10e",
   "metadata": {},
   "outputs": [
    {
     "name": "stdout",
     "output_type": "stream",
     "text": [
      "32/32 [==============================] - 0s 2ms/step\n"
     ]
    }
   ],
   "source": [
    "prediction=autoencode.predict(xtest)\n",
    "mse=np.mean((xtest-prediction)**2,axis=1)\n",
    "threshold=np.percentile(mse,95)\n",
    "\n",
    "y_pred=np.where(mse > threshold,1,0)"
   ]
  },
  {
   "cell_type": "code",
   "execution_count": 23,
   "id": "5d41562e-4f19-46fb-b293-4d5163b0f8ac",
   "metadata": {},
   "outputs": [
    {
     "data": {
      "text/plain": [
       "0.95"
      ]
     },
     "execution_count": 23,
     "metadata": {},
     "output_type": "execute_result"
    }
   ],
   "source": [
    "accuracy=accuracy_score(ytest,y_pred)\n",
    "accuracy"
   ]
  }
 ],
 "metadata": {
  "kernelspec": {
   "display_name": "Python 3 (ipykernel)",
   "language": "python",
   "name": "python3"
  },
  "language_info": {
   "codemirror_mode": {
    "name": "ipython",
    "version": 3
   },
   "file_extension": ".py",
   "mimetype": "text/x-python",
   "name": "python",
   "nbconvert_exporter": "python",
   "pygments_lexer": "ipython3",
   "version": "3.10.0"
  }
 },
 "nbformat": 4,
 "nbformat_minor": 5
}
