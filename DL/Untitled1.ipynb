{
 "cells": [
  {
   "cell_type": "code",
   "execution_count": 21,
   "id": "6d97b107-78c5-4c73-b8fb-eb142e634be5",
   "metadata": {},
   "outputs": [],
   "source": [
    "import pandas as pd\n",
    "import numpy as np\n",
    "\n",
    "from sklearn.model_selection import train_test_split\n",
    "from sklearn.preprocessing import StandardScaler\n",
    "from sklearn.metrics import accuracy_score\n",
    "\n",
    "import tensorflow\n",
    "\n",
    "from tensorflow.keras.models import Sequential\n",
    "from tensorflow.keras.layers import Dense,InputLayer"
   ]
  },
  {
   "cell_type": "code",
   "execution_count": 22,
   "id": "57319b06-318f-4fbf-bf30-4c040451832f",
   "metadata": {},
   "outputs": [],
   "source": [
    "ecg=pd.read_csv(\"Dataset/ECGdataset/ecg_autoencoder_dataset.csv\")\n",
    "\n",
    "X=ecg.values\n",
    "y=np.zeros(X.shape[0])"
   ]
  },
  {
   "cell_type": "code",
   "execution_count": 23,
   "id": "0016f3b2-ca18-4de7-90c1-db86c40ba1b5",
   "metadata": {},
   "outputs": [],
   "source": [
    "xtrain,xtest,ytrain,ytest=train_test_split(X,y,test_size=0.2,random_state=42)"
   ]
  },
  {
   "cell_type": "code",
   "execution_count": 24,
   "id": "d5f38003-9f47-497d-9a25-c302b82baa73",
   "metadata": {},
   "outputs": [],
   "source": [
    "scaler=StandardScaler()\n",
    "xtrain=scaler.fit_transform(xtrain)\n",
    "xtest=scaler.transform(xtest)"
   ]
  },
  {
   "cell_type": "code",
   "execution_count": 25,
   "id": "b415a88a-67aa-4f60-bcc8-16a58fc18796",
   "metadata": {},
   "outputs": [],
   "source": [
    "input_dim=xtrain.shape[1]\n",
    "embeding=16"
   ]
  },
  {
   "cell_type": "code",
   "execution_count": 26,
   "id": "f9acb7c1-8139-40e7-8bd2-675aaf8c89f4",
   "metadata": {},
   "outputs": [],
   "source": [
    "encoder=Sequential([\n",
    "    InputLayer(input_shape=(input_dim,)),\n",
    "    Dense(32,activation=\"relu\"),\n",
    "    Dense(embeding,activation=\"relu\")\n",
    "])"
   ]
  },
  {
   "cell_type": "code",
   "execution_count": 27,
   "id": "9307d5d6-480c-4953-8b15-7eda56cc9c17",
   "metadata": {},
   "outputs": [],
   "source": [
    "decode=Sequential([\n",
    "    InputLayer(input_shape=(embeding,)),\n",
    "    Dense(32,activation=\"relu\"),\n",
    "    Dense(input_dim,activation=\"sigmoid\")\n",
    "])"
   ]
  },
  {
   "cell_type": "code",
   "execution_count": 28,
   "id": "c0f17aa0-67e0-417a-b019-a47926915e4e",
   "metadata": {},
   "outputs": [
    {
     "name": "stdout",
     "output_type": "stream",
     "text": [
      "Epoch 1/10\n",
      "125/125 [==============================] - 1s 4ms/step - loss: 0.9444 - val_loss: 0.8324\n",
      "Epoch 2/10\n",
      "125/125 [==============================] - 0s 3ms/step - loss: 0.7265 - val_loss: 0.7835\n",
      "Epoch 3/10\n",
      "125/125 [==============================] - 0s 3ms/step - loss: 0.7000 - val_loss: 0.7625\n",
      "Epoch 4/10\n",
      "125/125 [==============================] - 1s 5ms/step - loss: 0.6833 - val_loss: 0.7499\n",
      "Epoch 5/10\n",
      "125/125 [==============================] - 1s 5ms/step - loss: 0.6741 - val_loss: 0.7421\n",
      "Epoch 6/10\n",
      "125/125 [==============================] - 1s 5ms/step - loss: 0.6676 - val_loss: 0.7364\n",
      "Epoch 7/10\n",
      "125/125 [==============================] - 1s 5ms/step - loss: 0.6619 - val_loss: 0.7296\n",
      "Epoch 8/10\n",
      "125/125 [==============================] - 1s 5ms/step - loss: 0.6572 - val_loss: 0.7262\n",
      "Epoch 9/10\n",
      "125/125 [==============================] - 0s 3ms/step - loss: 0.6542 - val_loss: 0.7236\n",
      "Epoch 10/10\n",
      "125/125 [==============================] - 0s 4ms/step - loss: 0.6519 - val_loss: 0.7217\n",
      "Model: \"sequential_6\"\n",
      "_________________________________________________________________\n",
      " Layer (type)                Output Shape              Param #   \n",
      "=================================================================\n",
      " sequential_4 (Sequential)   (None, 16)                5072      \n",
      "                                                                 \n",
      " sequential_5 (Sequential)   (None, 141)               5197      \n",
      "                                                                 \n",
      "=================================================================\n",
      "Total params: 10269 (40.11 KB)\n",
      "Trainable params: 10269 (40.11 KB)\n",
      "Non-trainable params: 0 (0.00 Byte)\n",
      "_________________________________________________________________\n"
     ]
    }
   ],
   "source": [
    "autoencoder=Sequential([encoder,decode])\n",
    "\n",
    "autoencoder.compile(optimizer=\"adam\",loss=\"mse\")\n",
    "\n",
    "autoencoder.fit(xtrain,xtrain,epochs=10,batch_size=32,shuffle=True,validation_data=(xtest,xtest))\n",
    "\n",
    "autoencoder.summary()"
   ]
  },
  {
   "cell_type": "code",
   "execution_count": 29,
   "id": "41da6096-d745-4899-b62f-388169e14a26",
   "metadata": {},
   "outputs": [
    {
     "name": "stdout",
     "output_type": "stream",
     "text": [
      "32/32 [==============================] - 0s 3ms/step\n"
     ]
    }
   ],
   "source": [
    "pred=autoencoder.predict(xtest)\n",
    "mse=np.mean((xtest-pred)**2,axis=1)\n",
    "threshold=np.percentile(mse,95)\n",
    "y_test_pred=np.where(mse>threshold,1,0)"
   ]
  },
  {
   "cell_type": "code",
   "execution_count": 30,
   "id": "ceda0fa1-739f-4e46-9df6-ed9eb7360d4d",
   "metadata": {},
   "outputs": [
    {
     "data": {
      "text/plain": [
       "1.0"
      ]
     },
     "execution_count": 30,
     "metadata": {},
     "output_type": "execute_result"
    }
   ],
   "source": [
    "accuracy_score(y_test,y_test_pred)"
   ]
  }
 ],
 "metadata": {
  "kernelspec": {
   "display_name": "Python 3 (ipykernel)",
   "language": "python",
   "name": "python3"
  },
  "language_info": {
   "codemirror_mode": {
    "name": "ipython",
    "version": 3
   },
   "file_extension": ".py",
   "mimetype": "text/x-python",
   "name": "python",
   "nbconvert_exporter": "python",
   "pygments_lexer": "ipython3",
   "version": "3.10.0"
  }
 },
 "nbformat": 4,
 "nbformat_minor": 5
}
