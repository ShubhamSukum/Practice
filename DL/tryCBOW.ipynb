{
 "cells": [
  {
   "cell_type": "code",
   "execution_count": 25,
   "id": "416d7608-8386-4322-81cd-0c12540738fb",
   "metadata": {},
   "outputs": [],
   "source": [
    "import numpy as np\n",
    "import tensorflow as tf\n",
    "from tensorflow.keras.models import Sequential\n",
    "from tensorflow.keras.layers import Embedding, Dense, GlobalAveragePooling1D\n",
    "from tensorflow.keras.preprocessing.text import Tokenizer"
   ]
  },
  {
   "cell_type": "code",
   "execution_count": 26,
   "id": "7d006de7-8da9-45c0-9633-8d9658debddb",
   "metadata": {},
   "outputs": [],
   "source": [
    "corpus=[\"The speed of transmission is an important point of difference between the two viruses. Influenza has a shorter median incubation period (the time from infection to appearance of symptoms) and a shorter serial interval (the time between successive cases) than COVID-19 virus. The serial interval for COVID-19 virus is estimated to be 5-6 days, while for influenza virus, the serial interval is 3 days. This means that influenza can spread faster than COVID-19.\"]"
   ]
  },
  {
   "cell_type": "code",
   "execution_count": 27,
   "id": "8fd43573-ae68-4159-b68c-524c3c00df73",
   "metadata": {},
   "outputs": [],
   "source": [
    "tokenizer = Tokenizer()\n",
    "tokenizer.fit_on_texts(corpus)\n",
    "word_index = tokenizer.word_index"
   ]
  },
  {
   "cell_type": "code",
   "execution_count": 28,
   "id": "bee11034-51db-4d56-9a78-db5c38509a9b",
   "metadata": {},
   "outputs": [],
   "source": [
    "sequences = tokenizer.texts_to_sequences(corpus)\n",
    "X, y = [], []\n",
    "\n",
    "for seq in sequences:\n",
    "    for i, target_word in enumerate(seq):\n",
    "        for j in range(max(0, i - 2), min(i + 3, len(seq))):\n",
    "            if i != j:\n",
    "                X.append([target_word, seq[j]])\n",
    "                y.append(1)  # Positive context\n",
    "\n",
    "X = np.array(X)\n",
    "y = np.array(y)"
   ]
  },
  {
   "cell_type": "code",
   "execution_count": 29,
   "id": "a3beb596-bade-4373-bddc-db8cb3d65b8d",
   "metadata": {},
   "outputs": [
    {
     "data": {
      "text/plain": [
       "<keras.src.callbacks.History at 0x268851f86a0>"
      ]
     },
     "execution_count": 29,
     "metadata": {},
     "output_type": "execute_result"
    }
   ],
   "source": [
    "model = Sequential([\n",
    "    Embedding(input_dim=len(word_index) + 1, output_dim=10, input_length=2),\n",
    "    GlobalAveragePooling1D(),\n",
    "    Dense(1, activation='sigmoid')\n",
    "])\n",
    "\n",
    "model.compile(optimizer='adam', loss='binary_crossentropy', metrics=['accuracy'])\n",
    "model.fit(X, y, epochs=100, verbose=0)"
   ]
  },
  {
   "cell_type": "code",
   "execution_count": 50,
   "id": "41eb7506-dbcb-4751-b4ac-fcd2598b4237",
   "metadata": {},
   "outputs": [
    {
     "name": "stdout",
     "output_type": "stream",
     "text": [
      "Words related to 'interval': ['from', 'time', 'virus', '3', 'difference']\n"
     ]
    }
   ],
   "source": [
    "target_word = \"interval\"\n",
    "if target_word not in word_index:\n",
    "    print(f\"{target_word} not found in the vocabulary.\")\n",
    "else:\n",
    "    target_embedding = model.layers[0].get_weights()[0][word_index[target_word]]\n",
    "\n",
    "    # Calculate cosine similarity\n",
    "    similarities = [(word, np.dot(target_embedding, model.layers[0].get_weights()[0][index]) /\n",
    "                    (np.linalg.norm(target_embedding) * np.linalg.norm(model.layers[0].get_weights()[0][index])))\n",
    "                    for word, index in word_index.items() if word != target_word]\n",
    "\n",
    "    # Sort by similarity and get top N\n",
    "    related_words = sorted(similarities, key=lambda x: x[1], reverse=True)[:5]\n",
    "\n",
    "    print(f\"Words related to '{target_word}': {[word for word, _ in related_words]}\")"
   ]
  }
 ],
 "metadata": {
  "kernelspec": {
   "display_name": "Python 3 (ipykernel)",
   "language": "python",
   "name": "python3"
  },
  "language_info": {
   "codemirror_mode": {
    "name": "ipython",
    "version": 3
   },
   "file_extension": ".py",
   "mimetype": "text/x-python",
   "name": "python",
   "nbconvert_exporter": "python",
   "pygments_lexer": "ipython3",
   "version": "3.10.0"
  }
 },
 "nbformat": 4,
 "nbformat_minor": 5
}
