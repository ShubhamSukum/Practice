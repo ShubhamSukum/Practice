{
 "cells": [
  {
   "cell_type": "code",
   "execution_count": 4,
   "id": "8948bb1b-da67-4a98-8378-599b4621536f",
   "metadata": {},
   "outputs": [],
   "source": [
    "import numpy as np\n",
    "import tensorflow as tf\n",
    "from tensorflow.keras.models import Sequential\n",
    "from tensorflow.keras.layers import Embedding,GlobalAveragePooling1D,Dense\n",
    "from tensorflow.keras.preprocessing.text import Tokenizer"
   ]
  },
  {
   "cell_type": "code",
   "execution_count": 2,
   "id": "0dee5422-c174-4050-ba13-d2d47f44f3d7",
   "metadata": {},
   "outputs": [],
   "source": [
    "dataset=[\"The speed of transmission is an important point of difference between the two viruses. Influenza has a shorter median incubation period (the time from infection to appearance of symptoms) and a shorter serial interval (the time between successive cases) than COVID-19 virus. The serial interval for COVID-19 virus is estimated to be 5-6 days, while for influenza virus, the serial interval is 3 days. This means that influenza can spread faster than COVID-19.\"]"
   ]
  },
  {
   "cell_type": "code",
   "execution_count": 3,
   "id": "7e700b8f-4496-411a-8e5e-095007556a35",
   "metadata": {},
   "outputs": [],
   "source": [
    "tokenizer=Tokenizer()\n",
    "tokenizer.fit_on_texts(dataset)\n",
    "word_index=tokenizer.word_index"
   ]
  },
  {
   "cell_type": "code",
   "execution_count": 6,
   "id": "6c8c4205-b91a-4bf7-a738-6c9de25ec79b",
   "metadata": {},
   "outputs": [],
   "source": [
    "sequences=tokenizer.texts_to_sequences(dataset)\n",
    "\n",
    "X,y=[],[]\n",
    "\n",
    "for seq in sequences:\n",
    "    for i,target_word in enumerate(seq):\n",
    "        for j in range(max(0,i-2),min(i+3,len(seq))):\n",
    "            if i!=j:\n",
    "                X.append([target_word,seq[i]])\n",
    "                y.append(1)\n",
    "\n",
    "X=np.array(X)\n",
    "y=np.array(y)"
   ]
  },
  {
   "cell_type": "code",
   "execution_count": 7,
   "id": "8e07c466-847d-445f-ade6-1ad7759bfe13",
   "metadata": {},
   "outputs": [
    {
     "data": {
      "text/plain": [
       "<keras.src.callbacks.History at 0x210cefbb1c0>"
      ]
     },
     "execution_count": 7,
     "metadata": {},
     "output_type": "execute_result"
    }
   ],
   "source": [
    "model=Sequential([\n",
    "    Embedding(input_dim=len(word_index)+1,output_dim=10,input_length=2),\n",
    "    GlobalAveragePooling1D(),\n",
    "    Dense(1,activation='sigmoid')\n",
    "])\n",
    "\n",
    "model.compile(optimizer='adam',loss=\"binary_crossentropy\",metrics=[\"accuracy\"])\n",
    "model.fit(X,y,epochs=100,verbose=0)"
   ]
  },
  {
   "cell_type": "code",
   "execution_count": 12,
   "id": "13e6eb6d-ec24-418a-aec7-7ec7373a9ce5",
   "metadata": {},
   "outputs": [
    {
     "name": "stdout",
     "output_type": "stream",
     "text": [
      "Words related to *covid* <=> ['is', 'be', 'a', 'from', 'days', 'transmission', 'influenza', 'symptoms', 'successive', '5']\n"
     ]
    }
   ],
   "source": [
    "target_word=\"covid\"\n",
    "\n",
    "if target_word not in word_index:\n",
    "    print(f\"{target_word} not found !!\")\n",
    "else:\n",
    "    target_embedding=model.layers[0].get_weights()[0][word_index[target_word]]\n",
    "\n",
    "    similarity=[(word,np.dot(target_embedding,model.layers[0].get_weights()[0][index])/\n",
    "                (np.linalg.norm(target_embedding) * np.linalg.norm(model.layers[0].get_weights()[0][index])))\n",
    "                 for word,index in word_index.items() if word!=target_word]\n",
    "\n",
    "    related_word=sorted(similarity,key=lambda x: x[1],reverse=True)[:10]\n",
    "\n",
    "    print(f\"Words related to *{target_word}* <=> {[word for word,_ in related_word]}\")"
   ]
  }
 ],
 "metadata": {
  "kernelspec": {
   "display_name": "Python 3 (ipykernel)",
   "language": "python",
   "name": "python3"
  },
  "language_info": {
   "codemirror_mode": {
    "name": "ipython",
    "version": 3
   },
   "file_extension": ".py",
   "mimetype": "text/x-python",
   "name": "python",
   "nbconvert_exporter": "python",
   "pygments_lexer": "ipython3",
   "version": "3.10.0"
  }
 },
 "nbformat": 4,
 "nbformat_minor": 5
}
