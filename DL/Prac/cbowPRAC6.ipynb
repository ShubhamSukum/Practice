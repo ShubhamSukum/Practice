{
 "cells": [
  {
   "cell_type": "code",
   "execution_count": 1,
   "id": "d7103f28-09e1-4292-ba2e-4826987cd452",
   "metadata": {},
   "outputs": [],
   "source": [
    "import numpy as np\n",
    "import tensorflow\n",
    "from tensorflow.keras.models import Sequential\n",
    "from tensorflow.keras.layers import Embedding,GlobalAveragePooling1D,Dense\n",
    "from tensorflow.keras.preprocessing.text import Tokenizer"
   ]
  },
  {
   "cell_type": "code",
   "execution_count": 2,
   "id": "d5acf206-8083-40ac-bb1a-4c60ae1fb4e9",
   "metadata": {},
   "outputs": [],
   "source": [
    "dataset=['The speed of transmission is an important point of difference between the two viruses. Influenza has a shorter median incubation period (the time from infection to appearance of symptoms) and a shorter serial interval (the time between successive cases) than COVID-19 virus. The serial interval for COVID-19 virus is estimated to be 5-6 days, while for influenza virus, the serial interval is 3 days. This means that influenza can spread faster than COVID-19.']"
   ]
  },
  {
   "cell_type": "code",
   "execution_count": 4,
   "id": "cba710ac-2fa5-4f1b-a445-7832df5b7004",
   "metadata": {},
   "outputs": [],
   "source": [
    "tokenizer=Tokenizer()\n",
    "tokenizer.fit_on_texts(dataset)\n",
    "word_index=tokenizer.word_index"
   ]
  },
  {
   "cell_type": "code",
   "execution_count": 6,
   "id": "c58019fb-2e97-4282-a451-288e957d8d78",
   "metadata": {},
   "outputs": [],
   "source": [
    "sequences=tokenizer.texts_to_sequences(dataset)\n",
    "X,y=[],[]\n",
    "\n",
    "for seq in sequences:\n",
    "    for i,target_word in enumerate(seq):\n",
    "        for j in range(max(0,i-2),min(i+3,len(seq))):\n",
    "            if i!=j:\n",
    "                X.append([target_word,seq[j]])\n",
    "                y.append(1)\n",
    "\n",
    "X=np.array(X)\n",
    "y=np.array(y)"
   ]
  },
  {
   "cell_type": "code",
   "execution_count": 8,
   "id": "0b2208b2-7076-40bb-8f90-7442afb6d6ac",
   "metadata": {},
   "outputs": [
    {
     "data": {
      "text/plain": [
       "<keras.src.callbacks.History at 0x20f14b38400>"
      ]
     },
     "execution_count": 8,
     "metadata": {},
     "output_type": "execute_result"
    }
   ],
   "source": [
    "model=Sequential([\n",
    "    Embedding(input_dim=len(word_index)+1,output_dim=10,input_length=2),\n",
    "    GlobalAveragePooling1D(),\n",
    "    Dense(1,activation=\"sigmoid\")\n",
    "])\n",
    "\n",
    "model.compile(optimizer=\"adam\",loss=\"binary_crossentropy\",metrics=[\"accuracy\"])\n",
    "model.fit(X,y,epochs=100,verbose=0)"
   ]
  },
  {
   "cell_type": "code",
   "execution_count": 16,
   "id": "182634e6-8f1d-4574-a2ab-33a16395daf3",
   "metadata": {},
   "outputs": [
    {
     "name": "stdout",
     "output_type": "stream",
     "text": [
      "Word related to 'interval' ['that', 'be', 'serial', 'than', 'symptoms']\n"
     ]
    }
   ],
   "source": [
    "target_word=\"interval\"\n",
    "\n",
    "if target_word not in word_index:\n",
    "    print(f\"{target_word} isn't present in document !!\")\n",
    "else:\n",
    "    target_embedding=model.layers[0].get_weights()[0][word_index[target_word]]\n",
    "\n",
    "    similarity=[(word,np.dot(target_embedding,model.layers[0].get_weights()[0][index])/\n",
    "                 (np.linalg.norm(target_embedding) * np.linalg.norm(model.layers[0].get_weights()[0][index])))\n",
    "                  for word,index in word_index.items() if word!=target_word]\n",
    "\n",
    "    related_word=sorted(similarity,key=lambda x: x[1],reverse=True)[:5]\n",
    "\n",
    "    print(f\"Word related to '{target_word}' {[word for word,_ in related_word]}\")"
   ]
  }
 ],
 "metadata": {
  "kernelspec": {
   "display_name": "Python 3 (ipykernel)",
   "language": "python",
   "name": "python3"
  },
  "language_info": {
   "codemirror_mode": {
    "name": "ipython",
    "version": 3
   },
   "file_extension": ".py",
   "mimetype": "text/x-python",
   "name": "python",
   "nbconvert_exporter": "python",
   "pygments_lexer": "ipython3",
   "version": "3.10.0"
  }
 },
 "nbformat": 4,
 "nbformat_minor": 5
}
