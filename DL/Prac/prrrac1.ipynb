{
 "cells": [
  {
   "cell_type": "code",
   "execution_count": 1,
   "id": "a5884e6d-b3f8-4054-8dd0-2088b93b128f",
   "metadata": {},
   "outputs": [],
   "source": [
    "import tensorflow\n",
    "from tensorflow.keras.models import Sequential\n",
    "from tensorflow.keras.layers import Flatten,Dense\n",
    "import pandas as pd"
   ]
  },
  {
   "cell_type": "code",
   "execution_count": 2,
   "id": "c16f4abd-e086-41c4-8a50-38bdb89abd13",
   "metadata": {},
   "outputs": [],
   "source": [
    "train_data=pd.read_csv(\"../Dataset/mnist_train.csv\")\n",
    "xtrain=train_data.drop('label',axis=1).values\n",
    "ytrain=train_data['label'].values\n",
    "\n",
    "test_data=pd.read_csv(\"../Dataset/mnist_test.csv\")\n",
    "xtest=test_data.drop('label',axis=1).values\n",
    "ytest=test_data['label'].values"
   ]
  },
  {
   "cell_type": "code",
   "execution_count": 5,
   "id": "b95b9693-452d-4ad7-8312-d3fa59a376f1",
   "metadata": {},
   "outputs": [],
   "source": [
    "xtrain=xtrain.reshape(-1,28,28)\n",
    "xtest=xtest.reshape(-1,28,28)\n",
    "\n",
    "xtrain=xtrain/255.0\n",
    "xtest=xtest/255.0"
   ]
  },
  {
   "cell_type": "code",
   "execution_count": 7,
   "id": "dfb033a8-d91c-4ade-8793-0b4661b7fb25",
   "metadata": {},
   "outputs": [
    {
     "name": "stdout",
     "output_type": "stream",
     "text": [
      "Epoch 1/11\n",
      "1875/1875 [==============================] - 12s 5ms/step - loss: 0.6401 - accuracy: 0.8394 - val_loss: 0.3499 - val_accuracy: 0.9048\n",
      "Epoch 2/11\n",
      "1875/1875 [==============================] - 9s 5ms/step - loss: 0.3344 - accuracy: 0.9052 - val_loss: 0.2899 - val_accuracy: 0.9203\n",
      "Epoch 3/11\n",
      "1875/1875 [==============================] - 8s 4ms/step - loss: 0.2866 - accuracy: 0.9190 - val_loss: 0.2605 - val_accuracy: 0.9287\n",
      "Epoch 4/11\n",
      "1875/1875 [==============================] - 9s 5ms/step - loss: 0.2567 - accuracy: 0.9275 - val_loss: 0.2345 - val_accuracy: 0.9346\n",
      "Epoch 5/11\n",
      "1875/1875 [==============================] - 7s 4ms/step - loss: 0.2340 - accuracy: 0.9338 - val_loss: 0.2176 - val_accuracy: 0.9383\n",
      "Epoch 6/11\n",
      "1875/1875 [==============================] - 7s 4ms/step - loss: 0.2152 - accuracy: 0.9395 - val_loss: 0.2056 - val_accuracy: 0.9415\n",
      "Epoch 7/11\n",
      "1875/1875 [==============================] - 7s 4ms/step - loss: 0.1995 - accuracy: 0.9439 - val_loss: 0.1902 - val_accuracy: 0.9460\n",
      "Epoch 8/11\n",
      "1875/1875 [==============================] - 10s 5ms/step - loss: 0.1865 - accuracy: 0.9478 - val_loss: 0.1789 - val_accuracy: 0.9481\n",
      "Epoch 9/11\n",
      "1875/1875 [==============================] - 9s 5ms/step - loss: 0.1749 - accuracy: 0.9510 - val_loss: 0.1692 - val_accuracy: 0.9508\n",
      "Epoch 10/11\n",
      "1875/1875 [==============================] - 8s 4ms/step - loss: 0.1648 - accuracy: 0.9539 - val_loss: 0.1613 - val_accuracy: 0.9541\n",
      "Epoch 11/11\n",
      "1875/1875 [==============================] - 8s 4ms/step - loss: 0.1560 - accuracy: 0.9565 - val_loss: 0.1533 - val_accuracy: 0.9552\n"
     ]
    },
    {
     "data": {
      "text/plain": [
       "<keras.src.callbacks.History at 0x200c5d3f160>"
      ]
     },
     "execution_count": 7,
     "metadata": {},
     "output_type": "execute_result"
    }
   ],
   "source": [
    "model=Sequential([\n",
    "    Flatten(input_shape=(28,28)),\n",
    "    Dense(128,activation='relu'),\n",
    "    Dense(10,activation='softmax')\n",
    "])\n",
    "\n",
    "model.compile(optimizer='sgd',loss='sparse_categorical_crossentropy',metrics=[\"accuracy\"])\n",
    "model.fit(xtrain,ytrain,validation_data=(xtest,ytest),epochs=11)"
   ]
  },
  {
   "cell_type": "code",
   "execution_count": 8,
   "id": "91fa140e-724f-4a46-8e1f-78c4a1b488a2",
   "metadata": {},
   "outputs": [
    {
     "data": {
      "image/png": "[encoded data removed]",
      "text/plain": [
       "<Figure size 640x480 with 1 Axes>"
      ]
     },
     "metadata": {},
     "output_type": "display_data"
    }
   ],
   "source": [
    "import random\n",
    "import matplotlib.pyplot as plt\n",
    "n=random.randint(0,9999)\n",
    "plt.imshow(xtest[n])\n",
    "plt.show()"
   ]
  },
  {
   "cell_type": "code",
   "execution_count": 10,
   "id": "02b69ed7-9d12-4709-927d-12fd40604362",
   "metadata": {},
   "outputs": [
    {
     "name": "stdout",
     "output_type": "stream",
     "text": [
      "313/313 [==============================] - 1s 3ms/step\n",
      "Actual  8\n",
      "Predicted  8\n"
     ]
    }
   ],
   "source": [
    "predict=model.predict(xtest)\n",
    "import numpy as np\n",
    "print(f\"Actual \",ytest[n])\n",
    "print(f\"Predicted \",np.argmax(predict[n]))"
   ]
  }
 ],
 "metadata": {
  "kernelspec": {
   "display_name": "Python 3 (ipykernel)",
   "language": "python",
   "name": "python3"
  },
  "language_info": {
   "codemirror_mode": {
    "name": "ipython",
    "version": 3
   },
   "file_extension": ".py",
   "mimetype": "text/x-python",
   "name": "python",
   "nbconvert_exporter": "python",
   "pygments_lexer": "ipython3",
   "version": "3.10.0"
  }
 },
 "nbformat": 4,
 "nbformat_minor": 5
}
