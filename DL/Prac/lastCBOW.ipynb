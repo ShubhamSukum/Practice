{
 "cells": [
  {
   "cell_type": "code",
   "execution_count": 1,
   "id": "ec8cefbb-cf6f-4c56-9f1d-7552e5e39bee",
   "metadata": {},
   "outputs": [],
   "source": [
    "import numpy as np\n",
    "import tensorflow as tf\n",
    "from tensorflow.keras.models import Sequential\n",
    "from tensorflow.keras.layers import Embedding,GlobalAveragePooling1D,Dense\n",
    "from tensorflow.keras.preprocessing.text import Tokenizer"
   ]
  },
  {
   "cell_type": "code",
   "execution_count": 2,
   "id": "9b55fa95-acc5-4839-a177-921b2139e003",
   "metadata": {},
   "outputs": [],
   "source": [
    "dataset=[\"The speed of transmission is an important point of difference between the two viruses. Influenza has a shorter median incubation period (the time from infection to appearance of symptoms) and a shorter serial interval (the time between successive cases) than COVID-19 virus. The serial interval for COVID-19 virus is estimated to be 5-6 days, while for influenza virus, the serial interval is 3 days. This means that influenza can spread faster than COVID-19.\"]"
   ]
  },
  {
   "cell_type": "code",
   "execution_count": 3,
   "id": "0d58677f-27c4-4dc0-bce4-a86b8978b69f",
   "metadata": {},
   "outputs": [],
   "source": [
    "tokenizer=Tokenizer()\n",
    "tokenizer.fit_on_texts(dataset)\n",
    "word_index=tokenizer.word_index"
   ]
  },
  {
   "cell_type": "code",
   "execution_count": 5,
   "id": "aadbf92c-25ee-446b-a5e0-4659a642b437",
   "metadata": {},
   "outputs": [],
   "source": [
    "sequences=tokenizer.texts_to_sequences(dataset)\n",
    "X,y=[],[]\n",
    "\n",
    "for seq in sequences:\n",
    "    for  i,target_word in enumerate(seq):\n",
    "        for j in range(max(0,i-2),min(i+3,len(seq))):\n",
    "            if i!=j:\n",
    "                X.append([target_word,seq[j]])\n",
    "                y.append(1)\n",
    "\n",
    "X=np.array(X)\n",
    "y=np.array(y)"
   ]
  },
  {
   "cell_type": "code",
   "execution_count": 8,
   "id": "47218f6b-411d-4172-8a9f-730201256507",
   "metadata": {},
   "outputs": [
    {
     "data": {
      "text/plain": [
       "<keras.src.callbacks.History at 0x1cf88c1c370>"
      ]
     },
     "execution_count": 8,
     "metadata": {},
     "output_type": "execute_result"
    }
   ],
   "source": [
    "model=Sequential([\n",
    "    Embedding(input_dim=len(word_index)+1,output_dim=10,input_length=2),\n",
    "    GlobalAveragePooling1D(),\n",
    "    Dense(1,activation='sigmoid')\n",
    "])\n",
    "\n",
    "model.compile(optimizer='adam',loss='binary_crossentropy',metrics=[\"accuracy\"])\n",
    "model.fit(X,y,epochs=100,verbose=0)"
   ]
  },
  {
   "cell_type": "code",
   "execution_count": 44,
   "id": "efb2df39-38eb-4cd3-980f-f92b7a85cc83",
   "metadata": {},
   "outputs": [
    {
     "name": "stdout",
     "output_type": "stream",
     "text": [
      "interval ** ['than', 'transmission', 'successive', 'spread', 'viruses']\n"
     ]
    }
   ],
   "source": [
    "target_word=\"interval\"\n",
    "\n",
    "if target_word not in word_index:\n",
    "    print(\"Word isn't present\")\n",
    "else:\n",
    "    target_embedding=model.layers[0].get_weights()[0][word_index[target_word]]\n",
    "\n",
    "    similarities=[(word,np.dot(target_embedding,model.layers[0].get_weights()[0][index])/\n",
    "                  (np.linalg.norm(target_embedding) * np.linalg.norm(model.layers[0].get_weights()[0][index])))\n",
    "                 for word,index in word_index.items() if word!=target_word]\n",
    "\n",
    "    related_word=sorted(similarities,key=lambda x: x[1],reverse=True)[:5]\n",
    "\n",
    "    print(f\"{target_word} ** {[word for word,_ in related_word]}\")"
   ]
  }
 ],
 "metadata": {
  "kernelspec": {
   "display_name": "Python 3 (ipykernel)",
   "language": "python",
   "name": "python3"
  },
  "language_info": {
   "codemirror_mode": {
    "name": "ipython",
    "version": 3
   },
   "file_extension": ".py",
   "mimetype": "text/x-python",
   "name": "python",
   "nbconvert_exporter": "python",
   "pygments_lexer": "ipython3",
   "version": "3.10.0"
  }
 },
 "nbformat": 4,
 "nbformat_minor": 5
}
