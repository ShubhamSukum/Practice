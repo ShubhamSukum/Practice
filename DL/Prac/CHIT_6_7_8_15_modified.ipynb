{
 "cells": [
  {
   "cell_type": "code",
   "execution_count": 3,
   "metadata": {},
   "outputs": [
    {
     "name": "stdout",
     "output_type": "stream",
     "text": [
      "Words related to 'interval': ['can', 'to', '48', 'in', 'before']\n"
     ]
    }
   ],
   "source": [
    "import numpy as np\n",
    "import tensorflow as tf\n",
    "from tensorflow.keras.models import Sequential\n",
    "from tensorflow.keras.layers import Embedding, Dense, GlobalAveragePooling1D\n",
    "from tensorflow.keras.preprocessing.text import Tokenizer\n",
    "\n",
    "# a. Data preparation\n",
    "corpus = [\"The speed of transmission is an important point of difference between the two viruses. Influenza has a shorter median incubation period (the time from infection to appearance of symptoms) and a shorter serial interval (the time between successive cases) than COVID-19 virus. The serial interval for COVID-19 virus is estimated to be 5-6 days, while for influenza virus, the serial interval is 3 days. This means that influenza can spread faster than COVID-19. Further, transmission in the first 3-5 days of illness, or potentially pre-symptomatic transmission –transmission of the virus before the appearance of symptoms – is a major driver of transmission for influenza. In contrast, while we are learning that there are people who can shed COVID-19 virus 24-48 hours prior to symptom onset, at present, this does not appear to be a major driver of transmission. The reproductive number – the number of secondary infections generated from one infected individual – is understood to be between 2 and 2.5 for COVID-19 virus, higher than for influenza. However, estimates for both COVID-19 and influenza viruses are very context and time-specific, making direct comparisons more difficult.\"]\n",
    "\n",
    "# b. Generate training data (CBOW representation)\n",
    "tokenizer = Tokenizer()\n",
    "tokenizer.fit_on_texts(corpus)\n",
    "word_index = tokenizer.word_index\n",
    "\n",
    "sequences = tokenizer.texts_to_sequences(corpus)\n",
    "X, y = [], []\n",
    "\n",
    "for seq in sequences:\n",
    "    for i, target_word in enumerate(seq):\n",
    "        for j in range(max(0, i - 2), min(i + 3, len(seq))):\n",
    "            if i != j:\n",
    "                X.append([target_word, seq[j]])\n",
    "                y.append(1)  # Positive context\n",
    "\n",
    "X = np.array(X)\n",
    "y = np.array(y)\n",
    "\n",
    "# c. Train model\n",
    "model = Sequential([\n",
    "    Embedding(input_dim=len(word_index) + 1, output_dim=10, input_length=2),\n",
    "    GlobalAveragePooling1D(),\n",
    "    Dense(1, activation='sigmoid')\n",
    "])\n",
    "\n",
    "model.compile(optimizer='adam', loss='binary_crossentropy', metrics=['accuracy'])\n",
    "model.fit(X, y, epochs=100, verbose=0)\n",
    "\n",
    "# d. Output\n",
    "target_word = \"interval\"\n",
    "if target_word not in word_index:\n",
    "    print(f\"{target_word} not found in the vocabulary.\")\n",
    "else:\n",
    "    target_embedding = model.layers[0].get_weights()[0][word_index[target_word]]\n",
    "\n",
    "    # Calculate cosine similarity\n",
    "    similarities = [(word, np.dot(target_embedding, model.layers[0].get_weights()[0][index]) /\n",
    "                     (np.linalg.norm(target_embedding) * np.linalg.norm(model.layers[0].get_weights()[0][index])))\n",
    "                    for word, index in word_index.items() if word != target_word]\n",
    "\n",
    "    # Sort by similarity and get top N\n",
    "    related_words = sorted(similarities, key=lambda x: x[1], reverse=True)[:5]\n",
    "\n",
    "    print(f\"Words related to '{target_word}': {[word for word, _ in related_words]}\") "
   ]
  }
 ],
 "metadata": {
  "kernelspec": {
   "display_name": "Python 3 (ipykernel)",
   "language": "python",
   "name": "python3"
  },
  "language_info": {
   "codemirror_mode": {
    "name": "ipython",
    "version": 3
   },
   "file_extension": ".py",
   "mimetype": "text/x-python",
   "name": "python",
   "nbconvert_exporter": "python",
   "pygments_lexer": "ipython3",
   "version": "3.10.0"
  }
 },
 "nbformat": 4,
 "nbformat_minor": 4
}
