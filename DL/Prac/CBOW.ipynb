{
 "cells": [
  {
   "cell_type": "code",
   "execution_count": 40,
   "id": "c4b6eead-a91e-438d-8b81-2dcaca5c6f23",
   "metadata": {},
   "outputs": [],
   "source": [
    "import numpy as np\n",
    "import tensorflow as tf\n",
    "from tensorflow.keras.models import Sequential\n",
    "from tensorflow.keras.layers import GlobalAveragePooling1D,Dense,Embedding\n",
    "from tensorflow.keras.preprocessing.text import Tokenizer"
   ]
  },
  {
   "cell_type": "code",
   "execution_count": 41,
   "id": "91bb302b-7934-49d5-804f-5fd62f2a7e3e",
   "metadata": {},
   "outputs": [],
   "source": [
    "# corpus=[\"The speed of transmission is an important point of difference between the two viruses. Influenza has a shorter median incubation period (the time from infection to appearance of symptoms) and a shorter serial interval (the time between successive cases) than COVID-19 virus. The serial interval for COVID-19 virus is estimated to be 5-6 days, while for influenza virus, the serial interval is 3 days. This means that influenza can spread faster than COVID-19.\"]\n",
    "\n",
    "corpus = [\"The speed of transmission is an important point of difference between the two viruses. Influenza has a shorter median incubation period (the time from infection to appearance of symptoms) and a shorter serial interval (the time between successive cases) than COVID-19 virus. The serial interval for COVID-19 virus is estimated to be 5-6 days, while for influenza virus, the serial interval is 3 days. This means that influenza can spread faster than COVID-19. Further, transmission in the first 3-5 days of illness, or potentially pre-symptomatic transmission –transmission of the virus before the appearance of symptoms – is a major driver of transmission for influenza. In contrast, while we are learning that there are people who can shed COVID-19 virus 24-48 hours prior to symptom onset, at present, this does not appear to be a major driver of transmission. The reproductive number – the number of secondary infections generated from one infected individual – is understood to be between 2 and 2.5 for COVID-19 virus, higher than for influenza. However, estimates for both COVID-19 and influenza viruses are very context and time-specific, making direct comparisons more difficult.\"]"
   ]
  },
  {
   "cell_type": "code",
   "execution_count": 42,
   "id": "a8a4797f-1768-4293-8f9d-8cba710c94aa",
   "metadata": {},
   "outputs": [],
   "source": [
    "tokenizer=Tokenizer()\n",
    "tokenizer.fit_on_texts(corpus)\n",
    "word_index=tokenizer.word_index"
   ]
  },
  {
   "cell_type": "code",
   "execution_count": 43,
   "id": "a31f7c82-695b-44d7-835f-882ed0496982",
   "metadata": {},
   "outputs": [],
   "source": [
    "sequences=tokenizer.texts_to_sequences(corpus)\n",
    "X,y=[],[]"
   ]
  },
  {
   "cell_type": "code",
   "execution_count": 44,
   "id": "dfc46431-a2c0-411d-8a9d-478a90938525",
   "metadata": {},
   "outputs": [],
   "source": [
    "for seq in sequences:\n",
    "    for i,target_word in enumerate(seq):\n",
    "        for j in range(max(0,i-2),min(i+3,len(seq))):\n",
    "            if i!=j:\n",
    "                X.append([target_word,seq[j]])\n",
    "                y.append(1)\n",
    "\n",
    "X=np.array(X)\n",
    "y=np.array(y)"
   ]
  },
  {
   "cell_type": "code",
   "execution_count": 45,
   "id": "fe9fa7bd-2508-43d9-8991-2d772c61a438",
   "metadata": {},
   "outputs": [
    {
     "data": {
      "text/plain": [
       "<keras.src.callbacks.History at 0x10ebd9ee170>"
      ]
     },
     "execution_count": 45,
     "metadata": {},
     "output_type": "execute_result"
    }
   ],
   "source": [
    "model=Sequential([\n",
    "    Embedding(input_dim=len(word_index)+1,output_dim=10,input_length=2),\n",
    "    GlobalAveragePooling1D(),\n",
    "    Dense(1,activation=\"sigmoid\")\n",
    "])\n",
    "\n",
    "model.compile(optimizer=\"adam\",loss=\"binary_crossentropy\",metrics=[\"accuracy\"])\n",
    "model.fit(X,y,epochs=100,verbose=0)"
   ]
  },
  {
   "cell_type": "code",
   "execution_count": 49,
   "id": "556d47cb-5a60-4855-8970-62617451b9be",
   "metadata": {},
   "outputs": [
    {
     "name": "stdout",
     "output_type": "stream",
     "text": [
      "the not found\n"
     ]
    }
   ],
   "source": [
    "target=\"the\"\n",
    "\n",
    "if target_word not in word_index:\n",
    "    print(f\"{target} not found\")\n",
    "else:\n",
    "    target_embedding=model.layers[0].get_weights()[0][word_index[target_word]]\n",
    "\n",
    "    similarity=[(word,np.dot(target_embedding,model.layers[0].get_weights()[0][index])/(np.linalg(target_embedding) * np.linalg(model.layers[0].get_weights()[0][index]))) for word,index in word_index.items() if word!=target_word]\n",
    "\n",
    "    related_words=sorted(similarity,key=lambda x: x[1],reverse=True)[:5]\n",
    "\n",
    "    print(f\"Word related to {target_word} => {[word for word,_ in related_words]}\")"
   ]
  }
 ],
 "metadata": {
  "kernelspec": {
   "display_name": "Python 3 (ipykernel)",
   "language": "python",
   "name": "python3"
  },
  "language_info": {
   "codemirror_mode": {
    "name": "ipython",
    "version": 3
   },
   "file_extension": ".py",
   "mimetype": "text/x-python",
   "name": "python",
   "nbconvert_exporter": "python",
   "pygments_lexer": "ipython3",
   "version": "3.10.0"
  }
 },
 "nbformat": 4,
 "nbformat_minor": 5
}
