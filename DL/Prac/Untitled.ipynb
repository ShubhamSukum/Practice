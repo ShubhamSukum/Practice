{
 "cells": [
  {
   "cell_type": "code",
   "execution_count": 1,
   "id": "96b39782-188e-49bc-81f6-710cc47c9ed2",
   "metadata": {},
   "outputs": [],
   "source": [
    "import tensorflow as tf\n",
    "from tensorflow.keras.applications import VGG16\n",
    "from tensorflow.keras.models import Model\n",
    "from tensorflow.keras.layers import Dense,Flatten\n",
    "from tensorflow.keras.optimizers import Adam\n",
    "from tensorflow.keras.preprocessing.image import ImageDataGenerator\n",
    "import numpy as np"
   ]
  },
  {
   "cell_type": "code",
   "execution_count": null,
   "id": "0f15b672-02ba-4e77-9034-e5a5497aa94d",
   "metadata": {},
   "outputs": [],
   "source": [
    "dataset_dir=\"../Dataset/caltech-101-img/\"\n",
    "\n",
    "datagen=ImageDataGenerator(\n",
    "    rescale=1.0/255,\n",
    ")\n",
    "\n",
    "batch_size=2000\n",
    "\n",
    "dataset_generator=datagen.flow_from_directory(\n",
    "    dataset_dir,\n",
    "    target_size=(64,64),\n",
    "    batch_size=batch_size,\n",
    "    class_mode='categorical'\n",
    ")"
   ]
  },
  {
   "cell_type": "code",
   "execution_count": null,
   "id": "9225b730-891b-4812-ba36-89912ba3ec03",
   "metadata": {},
   "outputs": [],
   "source": [
    "xtrain,ytrain=dataset_ge"
   ]
  }
 ],
 "metadata": {
  "kernelspec": {
   "display_name": "Python 3 (ipykernel)",
   "language": "python",
   "name": "python3"
  },
  "language_info": {
   "codemirror_mode": {
    "name": "ipython",
    "version": 3
   },
   "file_extension": ".py",
   "mimetype": "text/x-python",
   "name": "python",
   "nbconvert_exporter": "python",
   "pygments_lexer": "ipython3",
   "version": "3.10.0"
  }
 },
 "nbformat": 4,
 "nbformat_minor": 5
}
