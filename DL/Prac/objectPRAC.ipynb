{
 "cells": [
  {
   "cell_type": "code",
   "execution_count": 10,
   "id": "47cbf70b-98a7-44d4-be46-6e5c7076f574",
   "metadata": {},
   "outputs": [],
   "source": [
    "import tensorflow\n",
    "from tensorflow.keras.applications import VGG16\n",
    "from tensorflow.keras.models import Model\n",
    "from tensorflow.keras.layers import Flatten,Dense\n",
    "from tensorflow.keras.preprocessing.image import ImageDataGenerator\n",
    "from tensorflow.keras.optimizers import Adam\n",
    "\n",
    "import numpy as np\n",
    "import matplotlib.pyplot as plt"
   ]
  },
  {
   "cell_type": "code",
   "execution_count": null,
   "id": "713e4fc6-6b46-443f-b901-ccbd2920de02",
   "metadata": {},
   "outputs": [],
   "source": []
  },
  {
   "cell_type": "code",
   "execution_count": 2,
   "id": "62cd8d13-d31d-42bf-962d-3da1c138c1f9",
   "metadata": {},
   "outputs": [
    {
     "name": "stdout",
     "output_type": "stream",
     "text": [
      "Found 9144 images belonging to 102 classes.\n"
     ]
    }
   ],
   "source": [
    "dataset_dir=\"../Dataset/caltech-101-img/\"\n",
    "\n",
    "dataset_gen=ImageDataGenerator(\n",
    "    rescale=1.0/255,\n",
    ")\n",
    "\n",
    "dataset_generator=dataset_gen.flow_from_directory(\n",
    "    dataset_dir,\n",
    "    target_size=(64,64),\n",
    "    batch_size=2000,\n",
    "    class_mode=\"categorical\"\n",
    ")"
   ]
  },
  {
   "cell_type": "code",
   "execution_count": 3,
   "id": "371e9cd5-b163-4103-a132-4e8d944380a6",
   "metadata": {},
   "outputs": [
    {
     "name": "stdout",
     "output_type": "stream",
     "text": [
      "2000\n",
      "2000\n"
     ]
    }
   ],
   "source": [
    "(xtrain,ytrain)=dataset_generator[0]\n",
    "(xtest,ytest)=dataset_generator[1]\n",
    "\n",
    "print(len(xtrain))\n",
    "print(len(xtest))"
   ]
  },
  {
   "cell_type": "code",
   "execution_count": 5,
   "id": "d9cc95e6-1c15-4a95-a823-5f4981e1b78e",
   "metadata": {},
   "outputs": [],
   "source": [
    "weigth_path=\"../Dataset/vgg16_weights_tf_dim_ordering_tf_kernels_notop.h5\"\n",
    "\n",
    "base_model=VGG16(weights=weigth_path,input_shape=(64,64,3),include_top=False)"
   ]
  },
  {
   "cell_type": "code",
   "execution_count": 6,
   "id": "d6c4d956-1e81-431e-96aa-dfe416b4efec",
   "metadata": {},
   "outputs": [],
   "source": [
    "for layer in base_model.layers:\n",
    "    layer.trainable=False"
   ]
  },
  {
   "cell_type": "code",
   "execution_count": 8,
   "id": "ae16b9a1-912d-4f44-b119-f0375283c9b5",
   "metadata": {},
   "outputs": [],
   "source": [
    "x=Flatten()(base_model.output)\n",
    "x=Dense(64,activation=\"relu\")(x)\n",
    "prediction=Dense(102,activation=\"softmax\")(x)\n",
    "\n",
    "model=Model(inputs=base_model.input,outputs=prediction)\n",
    "model.compile(optimizer='adam',loss=\"categorical_crossentropy\",metrics=[\"accuracy\"])"
   ]
  },
  {
   "cell_type": "code",
   "execution_count": 9,
   "id": "a3d4e8c1-e588-4b6d-956f-d08a16c41b51",
   "metadata": {},
   "outputs": [
    {
     "name": "stdout",
     "output_type": "stream",
     "text": [
      "Epoch 1/2\n",
      "32/32 [==============================] - 84s 3s/step - loss: 4.0405 - accuracy: 0.1675 - val_loss: 3.5167 - val_accuracy: 0.2665\n",
      "Epoch 2/2\n",
      "32/32 [==============================] - 83s 3s/step - loss: 3.1064 - accuracy: 0.3370 - val_loss: 3.0694 - val_accuracy: 0.3630\n"
     ]
    },
    {
     "data": {
      "text/plain": [
       "<keras.src.callbacks.History at 0x22c31cc0b20>"
      ]
     },
     "execution_count": 9,
     "metadata": {},
     "output_type": "execute_result"
    }
   ],
   "source": [
    "model.fit(xtrain,ytrain,epochs=2,batch_size=64,validation_data=(xtest,ytest))"
   ]
  },
  {
   "cell_type": "code",
   "execution_count": 11,
   "id": "ebcba58e-8c68-4c08-8e2e-7d3267dbab68",
   "metadata": {},
   "outputs": [
    {
     "name": "stdout",
     "output_type": "stream",
     "text": [
      "Epoch 1/2\n",
      "32/32 [==============================] - 89s 3s/step - loss: 3.1936 - accuracy: 0.3390 - val_loss: 2.4109 - val_accuracy: 0.4835\n",
      "Epoch 2/2\n",
      "32/32 [==============================] - 88s 3s/step - loss: 1.8576 - accuracy: 0.5620 - val_loss: 2.0101 - val_accuracy: 0.5400\n"
     ]
    },
    {
     "data": {
      "text/plain": [
       "<keras.src.callbacks.History at 0x22c2fa5e6e0>"
      ]
     },
     "execution_count": 11,
     "metadata": {},
     "output_type": "execute_result"
    }
   ],
   "source": [
    "base_model=VGG16(weights=weigth_path,include_top=False,input_shape=(64,64,3))\n",
    "\n",
    "for layer in base_model.layers:\n",
    "    layer.trainable=False\n",
    "\n",
    "for layer in base_model.layers[len(base_model.layers)-2:]:\n",
    "    layer.trainable=True\n",
    "\n",
    "x=Flatten()(base_model.output)\n",
    "x=Dense(512,activation=\"relu\")(x)\n",
    "x=tensorflow.keras.layers.Dropout(0.3)(x)\n",
    "prediction=Dense(102,activation=\"softmax\")(x)\n",
    "\n",
    "model=Model(inputs=base_model.input,outputs=prediction)\n",
    "\n",
    "model.compile(optimizer=Adam(learning_rate=0.001),loss=\"categorical_crossentropy\",metrics=[\"accuracy\"])\n",
    "model.fit(xtrain,ytrain,epochs=2,batch_size=64,validation_data=(xtest,ytest))"
   ]
  },
  {
   "cell_type": "code",
   "execution_count": 13,
   "id": "6e30ba83-5123-4771-b37b-e5585d776a1d",
   "metadata": {},
   "outputs": [
    {
     "name": "stdout",
     "output_type": "stream",
     "text": [
      "63/63 [==============================] - 41s 655ms/step\n",
      "Actual =  [0. 0. 0. 0. 1. 0. 0. 0. 0. 0. 0. 0. 0. 0. 0. 0. 0. 0. 0. 0. 0. 0. 0. 0.\n",
      " 0. 0. 0. 0. 0. 0. 0. 0. 0. 0. 0. 0. 0. 0. 0. 0. 0. 0. 0. 0. 0. 0. 0. 0.\n",
      " 0. 0. 0. 0. 0. 0. 0. 0. 0. 0. 0. 0. 0. 0. 0. 0. 0. 0. 0. 0. 0. 0. 0. 0.\n",
      " 0. 0. 0. 0. 0. 0. 0. 0. 0. 0. 0. 0. 0. 0. 0. 0. 0. 0. 0. 0. 0. 0. 0. 0.\n",
      " 0. 0. 0. 0. 0. 0.]\n",
      "Predicted=  0\n"
     ]
    }
   ],
   "source": [
    "predicted=model.predict(xtest)"
   ]
  },
  {
   "cell_type": "code",
   "execution_count": 17,
   "id": "4d306d1a-f77e-4434-b81a-956ade90bedf",
   "metadata": {},
   "outputs": [],
   "source": [
    "label=list(dataset_generator.class_indices.keys())"
   ]
  },
  {
   "cell_type": "code",
   "execution_count": 37,
   "id": "80abd58b-ceb4-4f2a-abdf-5fb107498a3c",
   "metadata": {
    "scrolled": true
   },
   "outputs": [
    {
     "data": {
      "image/png": "[encoded data removed]",
      "text/plain": [
       "<Figure size 640x480 with 1 Axes>"
      ]
     },
     "metadata": {},
     "output_type": "display_data"
    },
    {
     "name": "stdout",
     "output_type": "stream",
     "text": [
      "Actual =  Motorbikes\n",
      "Predicted=  Motorbikes\n"
     ]
    }
   ],
   "source": [
    "import random \n",
    "n=random.randint(0,2000)\n",
    "plt.imshow(xtest[n])\n",
    "plt.show()\n",
    "print(\"Actual = \", label[np.argmax(ytest[n])])\n",
    "print(\"Predicted= \",label[np.argmax(predicted[n])])"
   ]
  },
  {
   "cell_type": "code",
   "execution_count": 50,
   "id": "fe934e89-2442-41d8-a966-30f7eec43888",
   "metadata": {},
   "outputs": [
    {
     "data": {
      "text/plain": [
       "\u001b[1;31mInit signature:\u001b[0m\n",
       "\u001b[0mtensorflow\u001b[0m\u001b[1;33m.\u001b[0m\u001b[0mkeras\u001b[0m\u001b[1;33m.\u001b[0m\u001b[0moptimizers\u001b[0m\u001b[1;33m.\u001b[0m\u001b[0mAdam\u001b[0m\u001b[1;33m(\u001b[0m\u001b[1;33m\n",
       "\u001b[0m    \u001b[0mlearning_rate\u001b[0m\u001b[1;33m=\u001b[0m\u001b[1;36m0.001\u001b[0m\u001b[1;33m,\u001b[0m\u001b[1;33m\n",
       "\u001b[0m    \u001b[0mbeta_1\u001b[0m\u001b[1;33m=\u001b[0m\u001b[1;36m0.9\u001b[0m\u001b[1;33m,\u001b[0m\u001b[1;33m\n",
       "\u001b[0m    \u001b[0mbeta_2\u001b[0m\u001b[1;33m=\u001b[0m\u001b[1;36m0.999\u001b[0m\u001b[1;33m,\u001b[0m\u001b[1;33m\n",
       "\u001b[0m    \u001b[0mepsilon\u001b[0m\u001b[1;33m=\u001b[0m\u001b[1;36m1e-07\u001b[0m\u001b[1;33m,\u001b[0m\u001b[1;33m\n",
       "\u001b[0m    \u001b[0mamsgrad\u001b[0m\u001b[1;33m=\u001b[0m\u001b[1;32mFalse\u001b[0m\u001b[1;33m,\u001b[0m\u001b[1;33m\n",
       "\u001b[0m    \u001b[0mweight_decay\u001b[0m\u001b[1;33m=\u001b[0m\u001b[1;32mNone\u001b[0m\u001b[1;33m,\u001b[0m\u001b[1;33m\n",
       "\u001b[0m    \u001b[0mclipnorm\u001b[0m\u001b[1;33m=\u001b[0m\u001b[1;32mNone\u001b[0m\u001b[1;33m,\u001b[0m\u001b[1;33m\n",
       "\u001b[0m    \u001b[0mclipvalue\u001b[0m\u001b[1;33m=\u001b[0m\u001b[1;32mNone\u001b[0m\u001b[1;33m,\u001b[0m\u001b[1;33m\n",
       "\u001b[0m    \u001b[0mglobal_clipnorm\u001b[0m\u001b[1;33m=\u001b[0m\u001b[1;32mNone\u001b[0m\u001b[1;33m,\u001b[0m\u001b[1;33m\n",
       "\u001b[0m    \u001b[0muse_ema\u001b[0m\u001b[1;33m=\u001b[0m\u001b[1;32mFalse\u001b[0m\u001b[1;33m,\u001b[0m\u001b[1;33m\n",
       "\u001b[0m    \u001b[0mema_momentum\u001b[0m\u001b[1;33m=\u001b[0m\u001b[1;36m0.99\u001b[0m\u001b[1;33m,\u001b[0m\u001b[1;33m\n",
       "\u001b[0m    \u001b[0mema_overwrite_frequency\u001b[0m\u001b[1;33m=\u001b[0m\u001b[1;32mNone\u001b[0m\u001b[1;33m,\u001b[0m\u001b[1;33m\n",
       "\u001b[0m    \u001b[0mjit_compile\u001b[0m\u001b[1;33m=\u001b[0m\u001b[1;32mTrue\u001b[0m\u001b[1;33m,\u001b[0m\u001b[1;33m\n",
       "\u001b[0m    \u001b[0mname\u001b[0m\u001b[1;33m=\u001b[0m\u001b[1;34m'Adam'\u001b[0m\u001b[1;33m,\u001b[0m\u001b[1;33m\n",
       "\u001b[0m    \u001b[1;33m**\u001b[0m\u001b[0mkwargs\u001b[0m\u001b[1;33m,\u001b[0m\u001b[1;33m\n",
       "\u001b[0m\u001b[1;33m)\u001b[0m\u001b[1;33m\u001b[0m\u001b[1;33m\u001b[0m\u001b[0m\n",
       "\u001b[1;31mDocstring:\u001b[0m     \n",
       "Optimizer that implements the Adam algorithm.\n",
       "\n",
       "Adam optimization is a stochastic gradient descent method that is based on\n",
       "adaptive estimation of first-order and second-order moments.\n",
       "\n",
       "According to\n",
       "[Kingma et al., 2014](http://arxiv.org/abs/1412.6980),\n",
       "the method is \"*computationally\n",
       "efficient, has little memory requirement, invariant to diagonal rescaling of\n",
       "gradients, and is well suited for problems that are large in terms of\n",
       "data/parameters*\".\n",
       "\n",
       "Args:\n",
       "    learning_rate: A `tf.Tensor`, floating point value, a schedule that is a\n",
       "        `tf.keras.optimizers.schedules.LearningRateSchedule`, or a callable\n",
       "        that takes no arguments and returns the actual value to use. The\n",
       "        learning rate. Defaults to `0.001`.\n",
       "    beta_1: A float value or a constant float tensor, or a callable\n",
       "        that takes no arguments and returns the actual value to use. The\n",
       "        exponential decay rate for the 1st moment estimates.\n",
       "        Defaults to `0.9`.\n",
       "    beta_2: A float value or a constant float tensor, or a callable\n",
       "        that takes no arguments and returns the actual value to use. The\n",
       "        exponential decay rate for the 2nd moment estimates.\n",
       "        Defaults to `0.999`.\n",
       "    epsilon: A small constant for numerical stability. This epsilon is\n",
       "        \"epsilon hat\" in the Kingma and Ba paper (in the formula just before\n",
       "        Section 2.1), not the epsilon in Algorithm 1 of the paper.\n",
       "        Defaults to `1e-7`.\n",
       "    amsgrad: Boolean. Whether to apply AMSGrad variant of this algorithm\n",
       "        from the paper \"On the Convergence of Adam and beyond\".\n",
       "        Defaults to `False`.\n",
       "    name: String. The name to use\n",
       "      for momentum accumulator weights created by\n",
       "      the optimizer.\n",
       "  weight_decay: Float, defaults to None. If set, weight decay is applied.\n",
       "  clipnorm: Float. If set, the gradient of each weight is individually\n",
       "      clipped so that its norm is no higher than this value.\n",
       "  clipvalue: Float. If set, the gradient of each weight is clipped to be no\n",
       "      higher than this value.\n",
       "  global_clipnorm: Float. If set, the gradient of all weights is clipped so\n",
       "      that their global norm is no higher than this value.\n",
       "  use_ema: Boolean, defaults to False. If True, exponential moving average\n",
       "      (EMA) is applied. EMA consists of computing an exponential moving\n",
       "      average of the weights of the model (as the weight values change after\n",
       "      each training batch), and periodically overwriting the weights with\n",
       "      their moving average.\n",
       "  ema_momentum: Float, defaults to 0.99. Only used if `use_ema=True`.\n",
       "      This is the momentum to use when computing\n",
       "      the EMA of the model's weights:\n",
       "      `new_average = ema_momentum * old_average + (1 - ema_momentum) *\n",
       "      current_variable_value`.\n",
       "  ema_overwrite_frequency: Int or None, defaults to None. Only used if\n",
       "      `use_ema=True`. Every `ema_overwrite_frequency` steps of iterations,\n",
       "      we overwrite the model variable by its moving average.\n",
       "      If None, the optimizer\n",
       "      does not overwrite model variables in the middle of training, and you\n",
       "      need to explicitly overwrite the variables at the end of training\n",
       "      by calling `optimizer.finalize_variable_values()`\n",
       "      (which updates the model\n",
       "      variables in-place). When using the built-in `fit()` training loop,\n",
       "      this happens automatically after the last epoch,\n",
       "      and you don't need to do anything.\n",
       "  jit_compile: Boolean, defaults to True.\n",
       "      If True, the optimizer will use XLA\n",
       "      compilation. If no GPU device is found, this flag will be ignored.\n",
       "  mesh: optional `tf.experimental.dtensor.Mesh` instance. When provided,\n",
       "      the optimizer will be run in DTensor mode, e.g. state\n",
       "      tracking variable will be a DVariable, and aggregation/reduction will\n",
       "      happen in the global DTensor context.\n",
       "  **kwargs: keyword arguments only used for backward compatibility.\n",
       "\n",
       "Reference:\n",
       "    - [Kingma et al., 2014](http://arxiv.org/abs/1412.6980)\n",
       "    - [Reddi et al., 2018](\n",
       "        https://openreview.net/pdf?id=ryQu7f-RZ) for `amsgrad`.\n",
       "\n",
       "Notes:\n",
       "\n",
       "The default value of 1e-7 for epsilon might not be a good default in\n",
       "general. For example, when training an Inception network on ImageNet a\n",
       "current good choice is 1.0 or 0.1. Note that since Adam uses the\n",
       "formulation just before Section 2.1 of the Kingma and Ba paper rather than\n",
       "the formulation in Algorithm 1, the \"epsilon\" referred to here is \"epsilon\n",
       "hat\" in the paper.\n",
       "\n",
       "The sparse implementation of this algorithm (used when the gradient is an\n",
       "IndexedSlices object, typically because of `tf.gather` or an embedding\n",
       "lookup in the forward pass) does apply momentum to variable slices even if\n",
       "they were not used in the forward pass (meaning they have a gradient equal\n",
       "to zero). Momentum decay (beta1) is also applied to the entire momentum\n",
       "accumulator. This means that the sparse behavior is equivalent to the dense\n",
       "behavior (in contrast to some momentum implementations which ignore momentum\n",
       "unless a variable slice was actually used).\n",
       "\u001b[1;31mInit docstring:\u001b[0m Create a new Optimizer.\n",
       "\u001b[1;31mFile:\u001b[0m           c:\\users\\shubham sukum\\appdata\\roaming\\python\\python310\\site-packages\\keras\\src\\optimizers\\adam.py\n",
       "\u001b[1;31mType:\u001b[0m           type\n",
       "\u001b[1;31mSubclasses:\u001b[0m     "
      ]
     },
     "metadata": {},
     "output_type": "display_data"
    }
   ],
   "source": [
    "tensorflow.keras.optimizers.Adam?"
   ]
  },
  {
   "cell_type": "code",
   "execution_count": null,
   "id": "27f2902b-adee-4ee6-9e16-e62382fb97aa",
   "metadata": {},
   "outputs": [],
   "source": []
  }
 ],
 "metadata": {
  "kernelspec": {
   "display_name": "Python 3 (ipykernel)",
   "language": "python",
   "name": "python3"
  },
  "language_info": {
   "codemirror_mode": {
    "name": "ipython",
    "version": 3
   },
   "file_extension": ".py",
   "mimetype": "text/x-python",
   "name": "python",
   "nbconvert_exporter": "python",
   "pygments_lexer": "ipython3",
   "version": "3.10.0"
  }
 },
 "nbformat": 4,
 "nbformat_minor": 5
}
