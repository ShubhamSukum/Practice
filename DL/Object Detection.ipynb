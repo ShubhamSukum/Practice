{
 "cells": [
  {
   "cell_type": "code",
   "execution_count": 11,
   "id": "34bce488-01c0-4548-a1a4-33902f1f1e14",
   "metadata": {},
   "outputs": [],
   "source": [
    "import tensorflow as tf\n",
    "from tensorflow import keras\n",
    "from tensorflow.keras.applications import VGG16\n",
    "from tensorflow.keras.models import Model\n",
    "from tensorflow.keras.layers import Dense, Flatten\n",
    "from tensorflow.keras.optimizers import Adam\n",
    "from tensorflow.keras.preprocessing.image import ImageDataGenerator\n",
    "import numpy as np"
   ]
  },
  {
   "cell_type": "code",
   "execution_count": 12,
   "id": "4064969b-4d1c-4998-8b9f-172f30fb5bc5",
   "metadata": {},
   "outputs": [
    {
     "name": "stdout",
     "output_type": "stream",
     "text": [
      "Found 9144 images belonging to 102 classes.\n"
     ]
    }
   ],
   "source": [
    "dataset_dir = \"./Dataset/caltech-101-img/\"\n",
    "dataset_datagen = ImageDataGenerator(\n",
    "    rescale=1.0 / 255,\n",
    ")\n",
    "\n",
    "# here batch_size is the number of images in each batch\n",
    "batch_size = 2000\n",
    "dataset_generator = dataset_datagen.flow_from_directory(\n",
    "    dataset_dir,\n",
    "    target_size=(64, 64),\n",
    "    batch_size=batch_size,\n",
    "    class_mode='categorical'\n",
    ")"
   ]
  },
  {
   "cell_type": "code",
   "execution_count": 13,
   "id": "ef1fb460-5f16-4c01-ae76-3c99db303ece",
   "metadata": {},
   "outputs": [
    {
     "name": "stdout",
     "output_type": "stream",
     "text": [
      "2000\n",
      "2000\n"
     ]
    }
   ],
   "source": [
    "x_train, y_train =  dataset_generator[0]\n",
    "x_test, y_test = dataset_generator[1]\n",
    "\n",
    "print(len(x_train))\n",
    "print(len(x_test))"
   ]
  },
  {
   "cell_type": "code",
   "execution_count": 14,
   "id": "b6777c36-3816-4a85-b6a4-fc7066bb5a48",
   "metadata": {},
   "outputs": [],
   "source": [
    "weights_path = \"./Dataset/vgg16_weights_tf_dim_ordering_tf_kernels_notop.h5\"\n",
    "base_model = VGG16(weights=weights_path, include_top=False, input_shape=(64, 64, 3))"
   ]
  },
  {
   "cell_type": "code",
   "execution_count": 15,
   "id": "7fb024f7-d618-444a-9620-ef1b2e931ccd",
   "metadata": {},
   "outputs": [],
   "source": [
    "for layer in base_model.layers:\n",
    "   layer.trainable = False"
   ]
  },
  {
   "cell_type": "code",
   "execution_count": 16,
   "id": "e892d838-385a-4962-a622-571263299d8b",
   "metadata": {},
   "outputs": [],
   "source": [
    "x = Flatten()(base_model.output)\n",
    "x = Dense(64, activation='relu')(x)\n",
    "predictions = Dense(102, activation='softmax')(x)\n",
    "\n",
    "# Create the model\n",
    "model = Model(inputs=base_model.input, outputs=predictions)\n",
    "# Compile the model\n",
    "model.compile(optimizer=\"adam\", loss='categorical_crossentropy', metrics=['accuracy'])"
   ]
  },
  {
   "cell_type": "code",
   "execution_count": 17,
   "id": "b89e2798-958b-4a72-8dd4-cd89c7517eac",
   "metadata": {},
   "outputs": [
    {
     "name": "stdout",
     "output_type": "stream",
     "text": [
      "Epoch 1/10\n",
      "32/32 [==============================] - 83s 3s/step - loss: 4.0511 - accuracy: 0.1720 - val_loss: 3.4852 - val_accuracy: 0.2795\n",
      "Epoch 2/10\n",
      "32/32 [==============================] - 85s 3s/step - loss: 3.0677 - accuracy: 0.3460 - val_loss: 3.0146 - val_accuracy: 0.3635\n",
      "Epoch 3/10\n",
      "32/32 [==============================] - 85s 3s/step - loss: 2.5584 - accuracy: 0.4335 - val_loss: 2.7035 - val_accuracy: 0.4340\n",
      "Epoch 4/10\n",
      "32/32 [==============================] - 90s 3s/step - loss: 2.1884 - accuracy: 0.5145 - val_loss: 2.4697 - val_accuracy: 0.4870\n",
      "Epoch 5/10\n",
      "32/32 [==============================] - 90s 3s/step - loss: 1.8919 - accuracy: 0.5815 - val_loss: 2.3065 - val_accuracy: 0.5005\n",
      "Epoch 6/10\n",
      "32/32 [==============================] - 90s 3s/step - loss: 1.6653 - accuracy: 0.6335 - val_loss: 2.2004 - val_accuracy: 0.5220\n",
      "Epoch 7/10\n",
      "32/32 [==============================] - 92s 3s/step - loss: 1.4647 - accuracy: 0.6835 - val_loss: 2.1136 - val_accuracy: 0.5370\n",
      "Epoch 8/10\n",
      "32/32 [==============================] - 90s 3s/step - loss: 1.3103 - accuracy: 0.7240 - val_loss: 2.0381 - val_accuracy: 0.5400\n",
      "Epoch 9/10\n",
      "32/32 [==============================] - 90s 3s/step - loss: 1.1806 - accuracy: 0.7460 - val_loss: 1.9986 - val_accuracy: 0.5435\n",
      "Epoch 10/10\n",
      "32/32 [==============================] - 92s 3s/step - loss: 1.0497 - accuracy: 0.7850 - val_loss: 1.9506 - val_accuracy: 0.5590\n"
     ]
    },
    {
     "data": {
      "text/plain": [
       "<keras.src.callbacks.History at 0x23f93360df0>"
      ]
     },
     "execution_count": 17,
     "metadata": {},
     "output_type": "execute_result"
    }
   ],
   "source": [
    "model.fit(x_train, y_train, batch_size=64, epochs=10, validation_data=(x_test, y_test))\n"
   ]
  },
  {
   "cell_type": "code",
   "execution_count": 18,
   "id": "81886761-3ffe-4e22-8973-54d4aca877c3",
   "metadata": {},
   "outputs": [
    {
     "name": "stdout",
     "output_type": "stream",
     "text": [
      "Epoch 1/10\n",
      "32/32 [==============================] - 90s 3s/step - loss: 3.2663 - accuracy: 0.3310 - val_loss: 2.5289 - val_accuracy: 0.4350\n",
      "Epoch 2/10\n",
      "32/32 [==============================] - 92s 3s/step - loss: 1.9629 - accuracy: 0.5325 - val_loss: 1.9920 - val_accuracy: 0.5505\n",
      "Epoch 3/10\n",
      "32/32 [==============================] - 96s 3s/step - loss: 1.3234 - accuracy: 0.6610 - val_loss: 1.8553 - val_accuracy: 0.5770\n",
      "Epoch 4/10\n",
      "32/32 [==============================] - 100s 3s/step - loss: 0.8393 - accuracy: 0.7765 - val_loss: 1.7296 - val_accuracy: 0.5925\n",
      "Epoch 5/10\n",
      "32/32 [==============================] - 95s 3s/step - loss: 0.4998 - accuracy: 0.8645 - val_loss: 1.7162 - val_accuracy: 0.6000\n",
      "Epoch 6/10\n",
      "32/32 [==============================] - 95s 3s/step - loss: 0.3254 - accuracy: 0.9165 - val_loss: 1.7925 - val_accuracy: 0.6060\n",
      "Epoch 7/10\n",
      "32/32 [==============================] - 95s 3s/step - loss: 0.1934 - accuracy: 0.9495 - val_loss: 1.8427 - val_accuracy: 0.6205\n",
      "Epoch 8/10\n",
      "32/32 [==============================] - 95s 3s/step - loss: 0.1298 - accuracy: 0.9680 - val_loss: 1.8632 - val_accuracy: 0.6185\n",
      "Epoch 9/10\n",
      "32/32 [==============================] - 95s 3s/step - loss: 0.1036 - accuracy: 0.9710 - val_loss: 1.7787 - val_accuracy: 0.6290\n",
      "Epoch 10/10\n",
      "32/32 [==============================] - 96s 3s/step - loss: 0.0641 - accuracy: 0.9875 - val_loss: 1.9153 - val_accuracy: 0.6295\n"
     ]
    },
    {
     "data": {
      "text/plain": [
       "<keras.src.callbacks.History at 0x23f93cd2020>"
      ]
     },
     "execution_count": 18,
     "metadata": {},
     "output_type": "execute_result"
    }
   ],
   "source": [
    "base_model = VGG16(weights=weights_path, include_top=False, input_shape=(64, 64, 3))\n",
    "# freeze all layers first\n",
    "for layer in base_model.layers:\n",
    "   layer.trainable = False\n",
    "# unfreeze last 4 layers of base model\n",
    "for layer in base_model.layers[len(base_model.layers) - 2:]:\n",
    "   layer.trainable = True\n",
    "# fine-tuning hyper parameters\n",
    "x = Flatten()(base_model.output)\n",
    "x = Dense(512, activation='relu')(x)\n",
    "x = tf.keras.layers.Dropout(0.3)(x)\n",
    "predictions = Dense(102, activation='softmax')(x)\n",
    "\n",
    "# Create the model\n",
    "model = Model(inputs=base_model.input, outputs=predictions)\n",
    "# Compile the model\n",
    "model.compile(optimizer=Adam(learning_rate=0.001), loss='categorical_crossentropy', metrics=['accuracy'])\n",
    "# training fine tuned model\n",
    "model.fit(x_train, y_train, batch_size=64, epochs=10, validation_data=(x_test, y_test))"
   ]
  },
  {
   "cell_type": "code",
   "execution_count": 19,
   "id": "ea208138-98ed-4ad9-b7a4-234ff624e490",
   "metadata": {},
   "outputs": [
    {
     "name": "stdout",
     "output_type": "stream",
     "text": [
      "63/63 [==============================] - 42s 671ms/step\n"
     ]
    }
   ],
   "source": [
    "import matplotlib.pyplot as plt\n",
    "predicted_value = model.predict(x_test)"
   ]
  },
  {
   "cell_type": "code",
   "execution_count": 20,
   "id": "8a29458d-88c6-49eb-84a5-8fcd1c68f780",
   "metadata": {},
   "outputs": [],
   "source": [
    "labels = list(dataset_generator.class_indices.keys())"
   ]
  },
  {
   "cell_type": "code",
   "execution_count": 32,
   "id": "33e546df-107f-4540-ab98-564a820de2ff",
   "metadata": {},
   "outputs": [
    {
     "name": "stdout",
     "output_type": "stream",
     "text": [
      "Preditcted:  airplanes\n",
      "Actual:  airplanes\n"
     ]
    },
    {
     "data": {
      "image/png": "[encoded data removed]",
      "text/plain": [
       "<Figure size 640x480 with 1 Axes>"
      ]
     },
     "metadata": {},
     "output_type": "display_data"
    }
   ],
   "source": [
    "n = 1000\n",
    "plt.imshow(x_test[n])\n",
    "print(\"Preditcted: \",labels[np.argmax(predicted_value[n])])\n",
    "print(\"Actual: \", labels[np.argmax(y_test[n])])"
   ]
  }
 ],
 "metadata": {
  "kernelspec": {
   "display_name": "Python 3 (ipykernel)",
   "language": "python",
   "name": "python3"
  },
  "language_info": {
   "codemirror_mode": {
    "name": "ipython",
    "version": 3
   },
   "file_extension": ".py",
   "mimetype": "text/x-python",
   "name": "python",
   "nbconvert_exporter": "python",
   "pygments_lexer": "ipython3",
   "version": "3.10.0"
  }
 },
 "nbformat": 4,
 "nbformat_minor": 5
}
