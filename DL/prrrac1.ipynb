{
 "cells": [
  {
   "cell_type": "code",
   "execution_count": 1,
   "id": "a5884e6d-b3f8-4054-8dd0-2088b93b128f",
   "metadata": {},
   "outputs": [],
   "source": [
    "import tensorflow\n",
    "from tensorflow.keras.models import Sequential\n",
    "from tensorflow.keras.layers import Flatten,Dense\n",
    "import pandas as pd"
   ]
  },
  {
   "cell_type": "code",
   "execution_count": 2,
   "id": "c16f4abd-e086-41c4-8a50-38bdb89abd13",
   "metadata": {},
   "outputs": [],
   "source": [
    "train_data=pd.read_csv(\"./Dataset/mnist_train.csv\")\n",
    "xtrain=train_data.drop('label',axis=1).values\n",
    "ytrain=train_data['label'].values\n",
    "\n",
    "test_data=pd.read_csv(\"./Dataset/mnist_test.csv\")\n",
    "xtest=test_data.drop('label',axis=1).values\n",
    "ytest=test_data['label'].values"
   ]
  },
  {
   "cell_type": "code",
   "execution_count": 3,
   "id": "b95b9693-452d-4ad7-8312-d3fa59a376f1",
   "metadata": {},
   "outputs": [],
   "source": [
    "xtrain=xtrain.reshape(-1,28,28)\n",
    "xtest=xtest.reshape(-1,28,28)\n",
    "\n",
    "xtrain=xtrain/255.0\n",
    "xtest=xtest/255.0"
   ]
  },
  {
   "cell_type": "code",
   "execution_count": 4,
   "id": "dfb033a8-d91c-4ade-8793-0b4661b7fb25",
   "metadata": {},
   "outputs": [
    {
     "name": "stdout",
     "output_type": "stream",
     "text": [
      "Epoch 1/11\n",
      "1875/1875 [==============================] - 11s 5ms/step - loss: 0.6385 - accuracy: 0.8418 - val_loss: 0.3555 - val_accuracy: 0.9035\n",
      "Epoch 2/11\n",
      "1875/1875 [==============================] - 10s 5ms/step - loss: 0.3377 - accuracy: 0.9058 - val_loss: 0.2962 - val_accuracy: 0.9174\n",
      "Epoch 3/11\n",
      "1875/1875 [==============================] - 10s 5ms/step - loss: 0.2893 - accuracy: 0.9185 - val_loss: 0.2608 - val_accuracy: 0.9272\n",
      "Epoch 4/11\n",
      "1875/1875 [==============================] - 10s 5ms/step - loss: 0.2584 - accuracy: 0.9275 - val_loss: 0.2389 - val_accuracy: 0.9342\n",
      "Epoch 5/11\n",
      "1875/1875 [==============================] - 10s 5ms/step - loss: 0.2351 - accuracy: 0.9341 - val_loss: 0.2217 - val_accuracy: 0.9374\n",
      "Epoch 6/11\n",
      "1875/1875 [==============================] - 10s 5ms/step - loss: 0.2164 - accuracy: 0.9394 - val_loss: 0.2042 - val_accuracy: 0.9417\n",
      "Epoch 7/11\n",
      "1875/1875 [==============================] - 10s 6ms/step - loss: 0.2005 - accuracy: 0.9437 - val_loss: 0.1902 - val_accuracy: 0.9464\n",
      "Epoch 8/11\n",
      "1875/1875 [==============================] - 10s 5ms/step - loss: 0.1871 - accuracy: 0.9475 - val_loss: 0.1789 - val_accuracy: 0.9482\n",
      "Epoch 9/11\n",
      "1875/1875 [==============================] - 10s 5ms/step - loss: 0.1757 - accuracy: 0.9509 - val_loss: 0.1697 - val_accuracy: 0.9496\n",
      "Epoch 10/11\n",
      "1875/1875 [==============================] - 10s 5ms/step - loss: 0.1656 - accuracy: 0.9534 - val_loss: 0.1610 - val_accuracy: 0.9528\n",
      "Epoch 11/11\n",
      "1875/1875 [==============================] - 10s 5ms/step - loss: 0.1567 - accuracy: 0.9559 - val_loss: 0.1543 - val_accuracy: 0.9541\n",
      "Model: \"sequential\"\n",
      "_________________________________________________________________\n",
      " Layer (type)                Output Shape              Param #   \n",
      "=================================================================\n",
      " flatten (Flatten)           (None, 784)               0         \n",
      "                                                                 \n",
      " dense (Dense)               (None, 128)               100480    \n",
      "                                                                 \n",
      " dense_1 (Dense)             (None, 10)                1290      \n",
      "                                                                 \n",
      "=================================================================\n",
      "Total params: 101770 (397.54 KB)\n",
      "Trainable params: 101770 (397.54 KB)\n",
      "Non-trainable params: 0 (0.00 Byte)\n",
      "_________________________________________________________________\n"
     ]
    }
   ],
   "source": [
    "model=Sequential([\n",
    "    Flatten(input_shape=(28,28)),\n",
    "    Dense(128,activation='relu'),\n",
    "    Dense(10,activation='softmax')\n",
    "])\n",
    "\n",
    "model.compile(optimizer='sgd',loss='sparse_categorical_crossentropy',metrics=[\"accuracy\"])\n",
    "model.fit(xtrain,ytrain,validation_data=(xtest,ytest),epochs=11)\n",
    "model.summary()"
   ]
  },
  {
   "cell_type": "code",
   "execution_count": 5,
   "id": "91fa140e-724f-4a46-8e1f-78c4a1b488a2",
   "metadata": {},
   "outputs": [
    {
     "data": {
      "image/png": "[encoded data removed]",
      "text/plain": [
       "<Figure size 640x480 with 1 Axes>"
      ]
     },
     "metadata": {},
     "output_type": "display_data"
    }
   ],
   "source": [
    "import random\n",
    "import matplotlib.pyplot as plt\n",
    "n=random.randint(0,9999)\n",
    "plt.imshow(xtest[n])\n",
    "plt.show()"
   ]
  },
  {
   "cell_type": "code",
   "execution_count": 6,
   "id": "02b69ed7-9d12-4709-927d-12fd40604362",
   "metadata": {},
   "outputs": [
    {
     "name": "stdout",
     "output_type": "stream",
     "text": [
      "313/313 [==============================] - 1s 4ms/step\n",
      "Actual  2\n",
      "Predicted  2\n"
     ]
    }
   ],
   "source": [
    "predict=model.predict(xtest)\n",
    "import numpy as np\n",
    "print(f\"Actual \",ytest[n])\n",
    "print(f\"Predicted \",np.argmax(predict[n]))"
   ]
  }
 ],
 "metadata": {
  "kernelspec": {
   "display_name": "Python 3 (ipykernel)",
   "language": "python",
   "name": "python3"
  },
  "language_info": {
   "codemirror_mode": {
    "name": "ipython",
    "version": 3
   },
   "file_extension": ".py",
   "mimetype": "text/x-python",
   "name": "python",
   "nbconvert_exporter": "python",
   "pygments_lexer": "ipython3",
   "version": "3.10.0"
  }
 },
 "nbformat": 4,
 "nbformat_minor": 5
}
